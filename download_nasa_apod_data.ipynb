{
 "cells": [
  {
   "cell_type": "code",
   "execution_count": 0,
   "metadata": {
    "application/vnd.databricks.v1+cell": {
     "cellMetadata": {
      "byteLimit": 2048000,
      "rowLimit": 10000
     },
     "inputWidgets": {},
     "nuid": "abdf7026-b6fe-49ed-8755-b60a1469e209",
     "showTitle": false,
     "tableResultSettingsMap": {},
     "title": ""
    }
   },
   "outputs": [],
   "source": [
    "import requests\n",
    "from datetime import datetime, timedelta\n",
    "\n",
    "# Set your NASA API key\n",
    "API_KEY = \"XKTOxNMJihb4WoNKGd61IGN6vycTrq47lqveDe26\"\n",
    "BASE_URL = \"https://api.nasa.gov/planetary/apod\"\n",
    "\n",
    "# Define date range\n",
    "start_date = datetime(2025, 6, 29)\n",
    "end_date = datetime(2025, 7, 3)\n",
    "\n",
    "# Prepare list of dates\n",
    "date_list = [(start_date + timedelta(days=i)).strftime('%Y-%m-%d')\n",
    "             for i in range((end_date - start_date).days + 1)]\n",
    "\n",
    "# List to hold API data\n",
    "data_list = []\n",
    "\n",
    "# Fetch data for each date\n",
    "for date in date_list:\n",
    "    params = {\n",
    "        \"api_key\": API_KEY,\n",
    "        \"date\": date\n",
    "    }\n",
    "    response = requests.get(BASE_URL, params=params)\n",
    "    if response.status_code == 200:\n",
    "        data = response.json()\n",
    "        data_list.append({\n",
    "            \"date\": data.get(\"date\"),\n",
    "            \"title\": data.get(\"title\"),\n",
    "            \"explanation\": data.get(\"explanation\"),\n",
    "            \"url\": data.get(\"url\")\n",
    "        })\n",
    "        print(f\"✅ Added data for {date}\")\n",
    "    else:\n",
    "        print(f\"⚠️ Failed to fetch data for {date}: {response.status_code}\")\n",
    "\n",
    "# Convert list of dicts into Spark DataFrame\n",
    "df = spark.createDataFrame(data_list)\n",
    "\n",
    "# Show the DataFrame\n",
    "display(df)\n",
    "\n",
    "# Save as Delta table in the default workspace\n",
    "table_name = \"nasa_apod_data\"\n",
    "df.write.format(\"delta\").mode(\"overwrite\").saveAsTable(table_name)\n",
    "\n",
    "print(f\"🎉 Data saved as Delta table: {table_name}\")\n"
   ]
  }
 ],
 "metadata": {
  "application/vnd.databricks.v1+notebook": {
   "computePreferences": null,
   "dashboards": [],
   "environmentMetadata": {
    "base_environment": "",
    "environment_version": "2"
   },
   "inputWidgetPreferences": null,
   "language": "python",
   "notebookMetadata": {
    "pythonIndentUnit": 4
   },
   "notebookName": "download_nasa_apod_data",
   "widgets": {}
  },
  "language_info": {
   "name": "python"
  }
 },
 "nbformat": 4,
 "nbformat_minor": 0
}
