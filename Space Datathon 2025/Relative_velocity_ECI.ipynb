{
 "cells": [
  {
   "cell_type": "code",
   "execution_count": 0,
   "metadata": {
    "application/vnd.databricks.v1+cell": {
     "cellMetadata": {
      "byteLimit": 2048000,
      "rowLimit": 10000
     },
     "inputWidgets": {},
     "nuid": "8a0c282b-89f2-42c8-98bd-dddbf10331e2",
     "showTitle": false,
     "tableResultSettingsMap": {},
     "title": ""
    }
   },
   "outputs": [],
   "source": [
    "%pip install skyfield"
   ]
  },
  {
   "cell_type": "code",
   "execution_count": 0,
   "metadata": {
    "application/vnd.databricks.v1+cell": {
     "cellMetadata": {
      "byteLimit": 2048000,
      "rowLimit": 10000
     },
     "inputWidgets": {},
     "nuid": "9c1717c9-d8b2-4f61-b4ec-03f7646ee02f",
     "showTitle": false,
     "tableResultSettingsMap": {},
     "title": ""
    }
   },
   "outputs": [],
   "source": [
    "from skyfield.api import EarthSatellite, load\n",
    "import pandas as pd\n",
    "from datetime import datetime\n",
    "\n",
    "# Load Skyfield timescale\n",
    "ts = load.timescale()\n",
    "\n",
    "def get_eci_from_tle(tle1, tle2, when):\n",
    "    \"\"\"\n",
    "    Compute Earth-Centered Inertial (ECI) coordinates from TLE.\n",
    "    'when' can be datetime or string.\n",
    "    Returns (x, y, z) in kilometers.\n",
    "    \"\"\"\n",
    "    sat = EarthSatellite(tle1, tle2)\n",
    "    \n",
    "    # Ensure datetime object\n",
    "    if isinstance(when, str):\n",
    "        # Strip milliseconds if present\n",
    "        when = when.split(\".\")[0]\n",
    "        dt = datetime.strptime(when, \"%Y-%m-%d %H:%M:%S\")\n",
    "    else:\n",
    "        dt = when\n",
    "\n",
    "    t = ts.utc(dt.year, dt.month, dt.day, dt.hour, dt.minute, dt.second)\n",
    "    geocentric = sat.at(t)\n",
    "    pos = geocentric.position.km\n",
    "    return pos[0], pos[1], pos[2]\n",
    "\n",
    "# Read data\n",
    "df = spark.read.table(\"workspace.default.cdms_data_profile_v2\").toPandas()\n",
    "\n",
    "eci_results = []\n",
    "for _, row in df.iterrows():\n",
    "    tle1_1 = row[\"TLE_LINE1\"]\n",
    "    tle2_1 = row[\"TLE_LINE2\"]\n",
    "    tle1_2 = row[\"tle1_2\"]\n",
    "    tle2_2 = row[\"tle2_2\"]\n",
    "    tca = row[\"TCA\"]\n",
    "\n",
    "    eci_1 = get_eci_from_tle(tle1_1, tle2_1, when=tca)\n",
    "    eci_2 = get_eci_from_tle(tle1_2, tle2_2, when=tca)\n",
    "\n",
    "    eci_results.append({\n",
    "        \"sat_1_id\": row[\"SAT_1_ID\"],\n",
    "        \"eci_1_x\": eci_1[0],\n",
    "        \"eci_1_y\": eci_1[1],\n",
    "        \"eci_1_z\": eci_1[2],\n",
    "        \"sat_2_id\": row[\"SAT_2_ID\"],\n",
    "        \"eci_2_x\": eci_2[0],\n",
    "        \"eci_2_y\": eci_2[1],\n",
    "        \"eci_2_z\": eci_2[2]\n",
    "    })\n",
    "\n",
    "eci_df = pd.DataFrame(eci_results)\n",
    "display(eci_df)\n"
   ]
  },
  {
   "cell_type": "code",
   "execution_count": 0,
   "metadata": {
    "application/vnd.databricks.v1+cell": {
     "cellMetadata": {
      "byteLimit": 2048000,
      "rowLimit": 10000
     },
     "inputWidgets": {},
     "nuid": "e5d01396-5d94-47bd-957c-30ad071137f1",
     "showTitle": false,
     "tableResultSettingsMap": {},
     "title": ""
    }
   },
   "outputs": [],
   "source": [
    "eci_df = eci_df.drop_duplicates()"
   ]
  },
  {
   "cell_type": "code",
   "execution_count": 0,
   "metadata": {
    "application/vnd.databricks.v1+cell": {
     "cellMetadata": {
      "byteLimit": 2048000,
      "rowLimit": 10000
     },
     "inputWidgets": {},
     "nuid": "d7b696dc-fb2d-4a08-af52-f303b3a9ecf1",
     "showTitle": false,
     "tableResultSettingsMap": {},
     "title": ""
    }
   },
   "outputs": [],
   "source": [
    "# Convert Pandas DataFrame to Spark DataFrame\n",
    "spark_eci_df = spark.createDataFrame(eci_df)\n",
    "\n",
    "# Save Spark DataFrame to Delta table\n",
    "spark_eci_df.write.format(\"delta\").mode(\"overwrite\").saveAsTable(\"workspace.default.eci_coordinates\")"
   ]
  },
  {
   "cell_type": "code",
   "execution_count": 0,
   "metadata": {
    "application/vnd.databricks.v1+cell": {
     "cellMetadata": {
      "byteLimit": 2048000,
      "rowLimit": 10000
     },
     "inputWidgets": {},
     "nuid": "4e18c65c-000f-485b-a71a-6ae70852fe3e",
     "showTitle": false,
     "tableResultSettingsMap": {},
     "title": ""
    }
   },
   "outputs": [],
   "source": [
    "display(df)"
   ]
  },
  {
   "cell_type": "code",
   "execution_count": 0,
   "metadata": {
    "application/vnd.databricks.v1+cell": {
     "cellMetadata": {
      "byteLimit": 2048000,
      "rowLimit": 10000
     },
     "inputWidgets": {},
     "nuid": "77556ba4-459d-4aff-b83b-eacbe6c54465",
     "showTitle": false,
     "tableResultSettingsMap": {},
     "title": ""
    }
   },
   "outputs": [],
   "source": [
    "%python\n",
    "from skyfield.api import EarthSatellite, load\n",
    "import pandas as pd\n",
    "from datetime import datetime, timedelta\n",
    "import matplotlib.pyplot as plt\n",
    "from mpl_toolkits.mplot3d import Axes3D\n",
    "\n",
    "# Load Skyfield timescale\n",
    "ts = load.timescale()\n",
    "\n",
    "def get_trajectory_from_tle(tle1, tle2, when, window_minutes=45, step_seconds=60):\n",
    "    \"\"\"\n",
    "    Generate ECI trajectory around a given epoch.\n",
    "    Returns lists of x, y, z (km).\n",
    "    \"\"\"\n",
    "    sat = EarthSatellite(tle1, tle2)\n",
    "    \n",
    "    # Parse datetime\n",
    "    if isinstance(when, str):\n",
    "        when = when.split(\".\")[0]  # remove milliseconds\n",
    "        dt = datetime.strptime(when, \"%Y-%m-%d %H:%M:%S\")\n",
    "    else:\n",
    "        dt = when\n",
    "\n",
    "    x, y, z = [], [], []\n",
    "    for delta in range(-window_minutes*60, window_minutes*60+1, step_seconds):\n",
    "        t_step = dt + timedelta(seconds=delta)\n",
    "        t = ts.utc(t_step.year, t_step.month, t_step.day, \n",
    "                   t_step.hour, t_step.minute, t_step.second)\n",
    "        pos = sat.at(t).position.km\n",
    "        x.append(pos[0])\n",
    "        y.append(pos[1])\n",
    "        z.append(pos[2])\n",
    "    return x, y, z\n",
    "\n",
    "# Read the table\n",
    "df = spark.read.table(\"workspace.default.cdms_data_profile_v2\").toPandas()\n",
    "\n",
    "# --- Plot in 3D ---\n",
    "fig = plt.figure(figsize=(10, 8))\n",
    "ax = fig.add_subplot(111, projection=\"3d\")\n",
    "\n",
    "# Plot trajectories for all pairs\n",
    "for _, row in df.iterrows():\n",
    "    tle1_1 = row[\"TLE_LINE1\"]\n",
    "    tle2_1 = row[\"TLE_LINE2\"]\n",
    "    tle1_2 = row[\"tle1_2\"]\n",
    "    tle2_2 = row[\"tle2_2\"]\n",
    "    tca = row[\"TCA\"]\n",
    "\n",
    "    # Get trajectories\n",
    "    x1, y1, z1 = get_trajectory_from_tle(tle1_1, tle2_1, tca)\n",
    "    x2, y2, z2 = get_trajectory_from_tle(tle1_2, tle2_2, tca)\n",
    "\n",
    "    ax.plot(x1, y1, z1, label=f\"Sat 1 ({row['SAT_1_ID']})\", color=\"blue\")\n",
    "    ax.plot(x2, y2, z2, label=f\"Sat 2 ({row['SAT_2_ID']})\", color=\"red\")\n",
    "\n",
    "    # Mark TCA positions\n",
    "    ax.scatter(x1[len(x1)//2], y1[len(y1)//2], z1[len(z1)//2], color=\"blue\", s=50, marker=\"o\")\n",
    "    ax.scatter(x2[len(x2)//2], y2[len(y2)//2], z2[len(z2)//2], color=\"red\", s=50, marker=\"x\")\n",
    "\n",
    "# Labels\n",
    "ax.set_xlabel(\"X (km)\")\n",
    "ax.set_ylabel(\"Y (km)\")\n",
    "ax.set_zlabel(\"Z (km)\")\n",
    "ax.set_title(\"3D Trajectories around TCA\")\n",
    "ax.legend(loc='upper center', bbox_to_anchor=(0.5, -0.05), ncol=2)\n",
    "plt.show()"
   ]
  },
  {
   "cell_type": "code",
   "execution_count": 0,
   "metadata": {
    "application/vnd.databricks.v1+cell": {
     "cellMetadata": {
      "byteLimit": 2048000,
      "rowLimit": 10000
     },
     "inputWidgets": {},
     "nuid": "c901ec50-76c5-4cb0-9e0e-9da1a7a7c20a",
     "showTitle": false,
     "tableResultSettingsMap": {},
     "title": ""
    }
   },
   "outputs": [],
   "source": [
    "%python\n",
    "import pandas as pd\n",
    "import numpy as np\n",
    "import matplotlib.pyplot as plt\n",
    "\n",
    "# Load data\n",
    "df = spark.read.table(\"workspace.default.eci_coordinates\").toPandas()\n",
    "\n",
    "# Compute relative distance\n",
    "df[\"miss_distance\"] = np.sqrt(\n",
    "    (df[\"eci_1_x\"] - df[\"eci_2_x\"])**2 +\n",
    "    (df[\"eci_1_y\"] - df[\"eci_2_y\"])**2 +\n",
    "    (df[\"eci_1_z\"] - df[\"eci_2_z\"])**2\n",
    ")\n",
    "\n",
    "# Parameters (approximation)\n",
    "sigma = 100  # [m] uncertainty (assumed)\n",
    "radius = 5   # [m] combined hard-body radius\n",
    "A = np.pi * radius**2  # effective collision area\n",
    "\n",
    "# Collision probability (simplified)\n",
    "df[\"Pc\"] = (A / (2 * np.pi * sigma**2)) * np.exp(- (df[\"miss_distance\"]*1000)**2 / (2*sigma**2))\n",
    "\n",
    "# Plot distribution\n",
    "plt.figure(figsize=(8,6))\n",
    "plt.hist(df[\"Pc\"], bins=50, color=\"skyblue\", edgecolor=\"black\", alpha=0.7)\n",
    "plt.xlabel(\"Collision Probability (Pc)\")\n",
    "plt.ylabel(\"Frequency\")\n",
    "plt.title(\"Collision Probability Distribution from ECI Dataset\")\n",
    "plt.yscale(\"log\")\n",
    "plt.grid(True, linestyle=\"--\", alpha=0.6)\n",
    "plt.show()\n"
   ]
  },
  {
   "cell_type": "code",
   "execution_count": 0,
   "metadata": {
    "application/vnd.databricks.v1+cell": {
     "cellMetadata": {
      "byteLimit": 2048000,
      "rowLimit": 10000
     },
     "inputWidgets": {},
     "nuid": "df5de764-7381-4cda-befc-a30c8a72d927",
     "showTitle": false,
     "tableResultSettingsMap": {},
     "title": ""
    }
   },
   "outputs": [],
   "source": [
    "import pandas as pd\n",
    "import numpy as np\n",
    "import matplotlib.pyplot as plt\n",
    "\n",
    "# Load data\n",
    "df = spark.read.table(\"workspace.default.eci_coordinates\").toPandas()\n",
    "\n",
    "# Compute relative distance [km]\n",
    "df[\"miss_distance_km\"] = np.sqrt(\n",
    "    (df[\"eci_1_x\"] - df[\"eci_2_x\"])**2 +\n",
    "    (df[\"eci_1_y\"] - df[\"eci_2_y\"])**2 +\n",
    "    (df[\"eci_1_z\"] - df[\"eci_2_z\"])**2\n",
    ")\n",
    "\n",
    "# Parameters (approximated)\n",
    "sigma = 100  # [m] position uncertainty\n",
    "radius = 5   # [m] combined hard-body radius\n",
    "A = np.pi * radius**2  # [m²] effective collision cross-section\n",
    "\n",
    "# Collision probability (simplified Gaussian)\n",
    "df[\"Pc\"] = (A / (2 * np.pi * sigma**2)) * np.exp(- (df[\"miss_distance_km\"]*1000)**2 / (2*sigma**2))\n",
    "\n",
    "# Create a label for sat pairs\n",
    "df[\"sat_pair\"] = df[\"sat_1_id\"] + \" vs \" + df[\"sat_2_id\"]\n",
    "\n",
    "# Scatter plot Pc vs Miss Distance with sat pairs\n",
    "plt.figure(figsize=(10,7))\n",
    "plt.scatter(df[\"miss_distance_km\"], df[\"Pc\"], alpha=0.7, c=\"crimson\", edgecolors=\"black\")\n",
    "plt.xlabel(\"Miss Distance [km]\")\n",
    "plt.ylabel(\"Collision Probability (Pc)\")\n",
    "plt.title(\"Collision Probability vs Miss Distance (by Satellite Pair)\")\n",
    "plt.yscale(\"log\")\n",
    "plt.grid(True, linestyle=\"--\", alpha=0.6)\n",
    "\n",
    "# Annotate top N riskiest pairs\n",
    "top_risk = df.sort_values(\"Pc\", ascending=False).head(10)\n",
    "for _, row in top_risk.iterrows():\n",
    "    plt.annotate(row[\"sat_pair\"], \n",
    "                 (row[\"miss_distance_km\"], row[\"Pc\"]), \n",
    "                 textcoords=\"offset points\", xytext=(5,5), fontsize=8,\n",
    "                 bbox=dict(facecolor='white', alpha=0.7, edgecolor='none'))\n",
    "\n",
    "plt.show()\n",
    "\n",
    "# Show table of riskiest pairs\n",
    "risk_table = df.sort_values(\"Pc\", ascending=False)[[\"sat_pair\", \"miss_distance_km\", \"Pc\"]].head(10)\n",
    "display(risk_table)"
   ]
  }
 ],
 "metadata": {
  "application/vnd.databricks.v1+notebook": {
   "computePreferences": null,
   "dashboards": [],
   "environmentMetadata": {
    "base_environment": "",
    "environment_version": "3"
   },
   "inputWidgetPreferences": null,
   "language": "python",
   "notebookMetadata": {
    "pythonIndentUnit": 4
   },
   "notebookName": "Relative_velocity_ECI",
   "widgets": {}
  },
  "language_info": {
   "name": "python"
  }
 },
 "nbformat": 4,
 "nbformat_minor": 0
}
