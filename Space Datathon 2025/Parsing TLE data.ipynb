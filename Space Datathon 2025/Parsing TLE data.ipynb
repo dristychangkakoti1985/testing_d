{
 "cells": [
  {
   "cell_type": "code",
   "execution_count": 0,
   "metadata": {
    "application/vnd.databricks.v1+cell": {
     "cellMetadata": {
      "byteLimit": 2048000,
      "rowLimit": 10000
     },
     "inputWidgets": {},
     "nuid": "ec2bf339-1231-42be-8991-fc658b94dc9e",
     "showTitle": false,
     "tableResultSettingsMap": {},
     "title": ""
    }
   },
   "outputs": [],
   "source": [
    "pip install sgp4\n"
   ]
  },
  {
   "cell_type": "code",
   "execution_count": 0,
   "metadata": {
    "application/vnd.databricks.v1+cell": {
     "cellMetadata": {
      "byteLimit": 2048000,
      "rowLimit": 10000
     },
     "inputWidgets": {},
     "nuid": "555a8a27-826c-4601-a462-2107e01dd82f",
     "showTitle": false,
     "tableResultSettingsMap": {},
     "title": ""
    }
   },
   "outputs": [],
   "source": [
    "dbutils.library.restartPython()"
   ]
  },
  {
   "cell_type": "code",
   "execution_count": 0,
   "metadata": {
    "application/vnd.databricks.v1+cell": {
     "cellMetadata": {
      "byteLimit": 2048000,
      "rowLimit": 10000
     },
     "inputWidgets": {},
     "nuid": "7999719b-8bd8-4113-b4bc-ea867a159b8c",
     "showTitle": false,
     "tableResultSettingsMap": {},
     "title": ""
    }
   },
   "outputs": [],
   "source": [
    "# sample\n",
    "from sgp4.api import Satrec\n",
    "from sgp4.api import jday\n",
    "\n",
    "# Paste your TLE here (2 lines)\n",
    "line1 = \"1 25544U 98067A   18264.51782528  .00002182  00000-0  11606-4 0  2927\"\n",
    "line2 = \"2 25544  51.6416 247.4627 0006703 130.5360 325.0288 15.72125391563537\"\n",
    "\n",
    "# Create satellite record from TLE lines\n",
    "satellite = Satrec.twoline2rv(line1, line2)\n",
    "\n",
    "# Extract epoch from the satellite record (year, month, day, hour, minute, second)\n",
    "year, month, day, hour, minute, second = satellite.jdsatepoch, satellite.jdsatepochF, 0, 0, 0, 0\n",
    "\n",
    "# satellite.jdsatepoch is Julian date integer part, jdsatepochF is fractional part\n",
    "jd = satellite.jdsatepoch\n",
    "jd_frac = satellite.jdsatepochF\n",
    "\n",
    "# Convert Julian date to calendar date (using sgp4's jday function in reverse)\n",
    "# We approximate here; better to use an external julian date converter, or:\n",
    "# We'll use jday for the epoch date itself:\n",
    "# But sgp4 does not provide inverse, so let's use an external package:\n",
    "from sgp4.api import Satrec, WGS72\n",
    "from datetime import datetime, timedelta\n",
    "\n",
    "def jd_to_datetime(jd):\n",
    "    # Julian day to datetime conversion\n",
    "    # JD 2451545.0 = 2000-01-01 12:00:00 UTC\n",
    "    JD_UNIX_EPOCH = 2440587.5\n",
    "    unix_time = (jd - JD_UNIX_EPOCH) * 86400.0\n",
    "    return datetime.utcfromtimestamp(unix_time)\n",
    "\n",
    "epoch_datetime = jd_to_datetime(jd + jd_frac)\n",
    "\n",
    "print(f\"Epoch datetime (UTC): {epoch_datetime}\")\n",
    "\n",
    "# Compute position and velocity at the epoch time (which is the TLE epoch)\n",
    "e, r, v = satellite.sgp4(jd, jd_frac)\n",
    "\n",
    "if e == 0:\n",
    "    # r is position vector [km], v is velocity vector [km/s]\n",
    "    print(f\"Position (ECI) in km: x={r[0]:.3f}, y={r[1]:.3f}, z={r[2]:.3f}\")\n",
    "    print(f\"Velocity (ECI) in km/s: vx={v[0]:.6f}, vy={v[1]:.6f}, vz={v[2]:.6f}\")\n",
    "else:\n",
    "    print(f\"Error in propagation: error code {e}\")\n"
   ]
  },
  {
   "cell_type": "code",
   "execution_count": 0,
   "metadata": {
    "application/vnd.databricks.v1+cell": {
     "cellMetadata": {
      "byteLimit": 2048000,
      "rowLimit": 10000
     },
     "inputWidgets": {},
     "nuid": "951f826e-9f28-436a-a622-399c3aa1b4a0",
     "showTitle": false,
     "tableResultSettingsMap": {},
     "title": ""
    }
   },
   "outputs": [],
   "source": [
    "%python\n",
    "from sgp4.api import Satrec\n",
    "from sgp4.api import jday\n",
    "from datetime import datetime, timedelta\n",
    "\n",
    "# Read the table into a Spark DataFrame\n",
    "df = spark.table(\"workspace.default.gp_latest_20250810_221255s\")\n",
    "\n",
    "# Select the first row for demonstration purposes\n",
    "tle_data = df.select(\"TLE_LINE1\", \"TLE_LINE2\").first()\n",
    "\n",
    "# Extract TLE lines\n",
    "line1 = tle_data[\"TLE_LINE1\"]\n",
    "line2 = tle_data[\"TLE_LINE2\"]\n",
    "\n",
    "# Create satellite record from TLE lines\n",
    "satellite = Satrec.twoline2rv(line1, line2)\n",
    "\n",
    "# Extract epoch from the satellite record (year, month, day, hour, minute, second)\n",
    "year, month, day, hour, minute, second = satellite.jdsatepoch, satellite.jdsatepochF, 0, 0, 0, 0\n",
    "\n",
    "# satellite.jdsatepoch is Julian date integer part, jdsatepochF is fractional part\n",
    "jd = satellite.jdsatepoch\n",
    "jd_frac = satellite.jdsatepochF\n",
    "\n",
    "# Convert Julian date to calendar date\n",
    "def jd_to_datetime(jd):\n",
    "    # Julian day to datetime conversion\n",
    "    # JD 2451545.0 = 2000-01-01 12:00:00 UTC\n",
    "    JD_UNIX_EPOCH = 2440587.5\n",
    "    unix_time = (jd - JD_UNIX_EPOCH) * 86400.0\n",
    "    return datetime.utcfromtimestamp(unix_time)\n",
    "\n",
    "epoch_datetime = jd_to_datetime(jd + jd_frac)\n",
    "\n",
    "print(f\"Epoch datetime (UTC): {epoch_datetime}\")\n",
    "\n",
    "# Compute position and velocity at the epoch time (which is the TLE epoch)\n",
    "e, r, v = satellite.sgp4(jd, jd_frac)\n",
    "\n",
    "if e == 0:\n",
    "    # r is position vector [km], v is velocity vector [km/s]\n",
    "    print(f\"Position (ECI) in km: x={r[0]:.3f}, y={r[1]:.3f}, z={r[2]:.3f}\")\n",
    "    print(f\"Velocity (ECI) in km/s: vx={v[0]:.6f}, vy={v[1]:.6f}, vz={v[2]:.6f}\")\n",
    "else:\n",
    "    print(f\"Error in propagation: error code {e}\")"
   ]
  },
  {
   "cell_type": "code",
   "execution_count": 0,
   "metadata": {
    "application/vnd.databricks.v1+cell": {
     "cellMetadata": {
      "byteLimit": 2048000,
      "rowLimit": 10000
     },
     "inputWidgets": {},
     "nuid": "b88fcdae-039f-474c-8914-0824f709c35d",
     "showTitle": false,
     "tableResultSettingsMap": {},
     "title": ""
    }
   },
   "outputs": [],
   "source": [
    "%python\n",
    "from sgp4.api import Satrec\n",
    "from datetime import datetime, timedelta\n",
    "import pandas as pd\n",
    "\n",
    "# Read the table into a Spark DataFrame\n",
    "df = spark.table(\"workspace.default.gp_latest_20250810_221255s\")\n",
    "\n",
    "# Convert Spark DataFrame to Pandas DataFrame for easier manipulation\n",
    "df_pd = df.toPandas()\n",
    "\n",
    "# Function to convert Julian date to datetime\n",
    "def jd_to_datetime(jd, jd_frac):\n",
    "    JD_UNIX_EPOCH = 2440587.5\n",
    "    unix_time = (jd + jd_frac - JD_UNIX_EPOCH) * 86400.0\n",
    "    return datetime.utcfromtimestamp(unix_time)\n",
    "\n",
    "# Function to compute position and velocity from TLE lines\n",
    "def compute_position_velocity(row):\n",
    "    satellite = Satrec.twoline2rv(row['TLE_LINE1'], row['TLE_LINE2'])\n",
    "    jd = satellite.jdsatepoch\n",
    "    jd_frac = satellite.jdsatepochF\n",
    "    epoch_datetime = jd_to_datetime(jd, jd_frac)\n",
    "    e, r, v = satellite.sgp4(jd, jd_frac)\n",
    "    if e == 0:\n",
    "        return pd.Series({\n",
    "            'epoch_datetime': epoch_datetime,\n",
    "            'pos_x_km': r[0], 'pos_y_km': r[1], 'pos_z_km': r[2],\n",
    "            'vel_x_kms': v[0], 'vel_y_kms': v[1], 'vel_z_kms': v[2]\n",
    "        })\n",
    "    else:\n",
    "        return pd.Series({\n",
    "            'epoch_datetime': epoch_datetime,\n",
    "            'pos_x_km': None, 'pos_y_km': None, 'pos_z_km': None,\n",
    "            'vel_x_kms': None, 'vel_y_kms': None, 'vel_z_kms': None\n",
    "        })\n",
    "\n",
    "# Apply the function to each row in the DataFrame\n",
    "parsed_df = df_pd.apply(compute_position_velocity, axis=1)\n",
    "\n",
    "# Join the parsed data with the original DataFrame\n",
    "df_pd = df_pd.join(parsed_df)\n",
    "\n",
    "# Convert back to Spark DataFrame\n",
    "df_spark = spark.createDataFrame(df_pd)\n",
    "\n",
    "# # Save as Delta table\n",
    "# yesterday = datetime.utcnow() - timedelta(days=1)\n",
    "table_name = f\"gp_latest_{datetime.utcnow().strftime('%Y%m%d_%H%M%S')}s\"\n",
    "df_spark.write.format(\"delta\").mode(\"overwrite\").saveAsTable(table_name)\n",
    "\n",
    "# Display the DataFrame\n",
    "display(df_spark)"
   ]
  },
  {
   "cell_type": "code",
   "execution_count": 0,
   "metadata": {
    "application/vnd.databricks.v1+cell": {
     "cellMetadata": {
      "byteLimit": 2048000,
      "rowLimit": 10000
     },
     "inputWidgets": {},
     "nuid": "8d00b79c-dfd0-4c87-b259-49b850ede519",
     "showTitle": false,
     "tableResultSettingsMap": {},
     "title": ""
    }
   },
   "outputs": [],
   "source": [
    "%python\n",
    "import matplotlib.pyplot as plt\n",
    "\n",
    "# Plot position (ECI) for all satellites\n",
    "plt.figure(figsize=(10, 6))\n",
    "plt.scatter(df_pd['pos_x_km'], df_pd['pos_y_km'], c='blue', alpha=0.5)\n",
    "plt.xlabel('ECI X Position (km)')\n",
    "plt.ylabel('ECI Y Position (km)')\n",
    "plt.title('Satellite ECI Position (X vs Y)')\n",
    "plt.grid(True)\n",
    "plt.show()"
   ]
  },
  {
   "cell_type": "code",
   "execution_count": 0,
   "metadata": {
    "application/vnd.databricks.v1+cell": {
     "cellMetadata": {
      "byteLimit": 2048000,
      "rowLimit": 10000
     },
     "inputWidgets": {},
     "nuid": "a68fc335-4fb8-47ad-b572-04495819ec36",
     "showTitle": false,
     "tableResultSettingsMap": {},
     "title": ""
    }
   },
   "outputs": [],
   "source": [
    "%python\n",
    "import matplotlib.pyplot as plt\n",
    "import numpy as np\n",
    "\n",
    "# Function to plot position and velocity\n",
    "def plot_position_velocity(df):\n",
    "    fig = plt.figure(figsize=(12, 8))\n",
    "    ax = fig.add_subplot(111, projection='3d')\n",
    "\n",
    "    # Plot Earth as a sphere (radius ~6371 km)\n",
    "    earth_radius = 6371\n",
    "    u = np.linspace(0, 2 * np.pi, 100)\n",
    "    v_sphere = np.linspace(0, np.pi, 100)\n",
    "    x = earth_radius * np.outer(np.cos(u), np.sin(v_sphere))\n",
    "    y = earth_radius * np.outer(np.sin(u), np.sin(v_sphere))\n",
    "    z = earth_radius * np.outer(np.ones(np.size(u)), np.cos(v_sphere))\n",
    "\n",
    "    ax.plot_surface(x, y, z, color='b', alpha=0.3)\n",
    "\n",
    "    # Plot satellite positions\n",
    "    ax.scatter(df['pos_x_km'], df['pos_y_km'], df['pos_z_km'], color='r', s=10, label='Satellite Position')\n",
    "\n",
    "    # Plot velocity vectors\n",
    "    for i in range(len(df)):\n",
    "        ax.quiver(df['pos_x_km'][i], df['pos_y_km'][i], df['pos_z_km'][i],\n",
    "                  df['vel_x_kms'][i], df['vel_y_kms'][i], df['vel_z_kms'][i],\n",
    "                  color='g', length=1000, normalize=True, label='Velocity Vector' if i == 0 else \"\")\n",
    "\n",
    "    # Set labels and limits\n",
    "    ax.set_xlabel('X (km)')\n",
    "    ax.set_ylabel('Y (km)')\n",
    "    ax.set_zlabel('Z (km)')\n",
    "    ax.set_title('Satellite Position and Velocity in ECI Frame\\n(Earth at Origin)')\n",
    "\n",
    "    max_val = earth_radius + 1000  # slightly larger than earth radius\n",
    "    lims = max(abs(df[['pos_x_km', 'pos_y_km', 'pos_z_km']]).max().max(), max_val)\n",
    "    ax.set_xlim([-lims, lims])\n",
    "    ax.set_ylim([-lims, lims])\n",
    "    ax.set_zlim([-lims, lims])\n",
    "\n",
    "    ax.legend()\n",
    "    plt.show()\n",
    "\n",
    "# Convert Spark DataFrame to Pandas DataFrame for plotting\n",
    "df_pd = df_spark.toPandas()\n",
    "\n",
    "# Plot the position and velocity\n",
    "plot_position_velocity(df_pd)"
   ]
  },
  {
   "cell_type": "code",
   "execution_count": 0,
   "metadata": {
    "application/vnd.databricks.v1+cell": {
     "cellMetadata": {
      "byteLimit": 2048000,
      "rowLimit": 10000
     },
     "inputWidgets": {},
     "nuid": "a80581d9-122b-4a36-a336-566a604979f7",
     "showTitle": false,
     "tableResultSettingsMap": {},
     "title": ""
    }
   },
   "outputs": [],
   "source": [
    "# Plotting sample with respect to earth;s position\n",
    "from sgp4.api import Satrec\n",
    "from datetime import datetime\n",
    "import numpy as np\n",
    "import matplotlib.pyplot as plt\n",
    "\n",
    "# TLE lines\n",
    "line1 = \"1 25544U 98067A   18264.51782528  .00002182  00000-0  11606-4 0  2927\"\n",
    "line2 = \"2 25544  51.6416 247.4627 0006703 130.5360 325.0288 15.72125391563537\"\n",
    "\n",
    "# Create satellite record\n",
    "satellite = Satrec.twoline2rv(line1, line2)\n",
    "\n",
    "jd = satellite.jdsatepoch\n",
    "jd_frac = satellite.jdsatepochF\n",
    "\n",
    "# Propagate satellite position and velocity at epoch\n",
    "e, r, v = satellite.sgp4(jd, jd_frac)\n",
    "\n",
    "if e != 0:\n",
    "    raise RuntimeError(f\"Error in SGP4 propagation: {e}\")\n",
    "\n",
    "# Convert Julian date to datetime for printing\n",
    "def jd_to_datetime(jd):\n",
    "    JD_UNIX_EPOCH = 2440587.5\n",
    "    unix_time = (jd - JD_UNIX_EPOCH) * 86400.0\n",
    "    return datetime.utcfromtimestamp(unix_time)\n",
    "\n",
    "epoch_datetime = jd_to_datetime(jd + jd_frac)\n",
    "print(f\"Epoch datetime (UTC): {epoch_datetime}\")\n",
    "\n",
    "# Position vector r in km, velocity vector v in km/s\n",
    "r = np.array(r)\n",
    "v = np.array(v)\n",
    "\n",
    "print(f\"Position (ECI) [km]: {r}\")\n",
    "print(f\"Velocity (ECI) [km/s]: {v}\")\n",
    "\n",
    "# --- Plotting ---\n",
    "fig = plt.figure(figsize=(8,8))\n",
    "ax = fig.add_subplot(111, projection='3d')\n",
    "\n",
    "# Plot Earth as a sphere (radius ~6371 km)\n",
    "earth_radius = 6371\n",
    "u = np.linspace(0, 2 * np.pi, 100)\n",
    "v_sphere = np.linspace(0, np.pi, 100)\n",
    "x = earth_radius * np.outer(np.cos(u), np.sin(v_sphere))\n",
    "y = earth_radius * np.outer(np.sin(u), np.sin(v_sphere))\n",
    "z = earth_radius * np.outer(np.ones(np.size(u)), np.cos(v_sphere))\n",
    "\n",
    "ax.plot_surface(x, y, z, color='b', alpha=0.3)\n",
    "\n",
    "# Plot satellite position\n",
    "ax.scatter(r[0], r[1], r[2], color='r', s=100, label='Satellite Position')\n",
    "\n",
    "# Plot velocity vector starting at satellite position (scale velocity for visualization)\n",
    "velocity_scale = 2000  # scale km/s to km for visibility\n",
    "v_scaled = v * velocity_scale\n",
    "\n",
    "ax.quiver(r[0], r[1], r[2],\n",
    "          v_scaled[0], v_scaled[1], v_scaled[2],\n",
    "          color='g', length=np.linalg.norm(v_scaled), normalize=True, label='Velocity Vector')\n",
    "\n",
    "# Set labels and limits\n",
    "ax.set_xlabel('X (km)')\n",
    "ax.set_ylabel('Y (km)')\n",
    "ax.set_zlabel('Z (km)')\n",
    "ax.set_title('Satellite Position and Velocity in ECI Frame\\n(Earth at Origin)')\n",
    "\n",
    "max_val = earth_radius + 1000  # slightly larger than earth radius\n",
    "lims = max(abs(r).max(), max_val)\n",
    "ax.set_xlim([-lims, lims])\n",
    "ax.set_ylim([-lims, lims])\n",
    "ax.set_zlim([-lims, lims])\n",
    "\n",
    "ax.legend()\n",
    "plt.show()\n"
   ]
  }
 ],
 "metadata": {
  "application/vnd.databricks.v1+notebook": {
   "computePreferences": null,
   "dashboards": [],
   "environmentMetadata": {
    "base_environment": "",
    "environment_version": "2"
   },
   "inputWidgetPreferences": null,
   "language": "python",
   "notebookMetadata": {
    "pythonIndentUnit": 4
   },
   "notebookName": "Parsing TLE data",
   "widgets": {}
  },
  "language_info": {
   "name": "python"
  }
 },
 "nbformat": 4,
 "nbformat_minor": 0
}
