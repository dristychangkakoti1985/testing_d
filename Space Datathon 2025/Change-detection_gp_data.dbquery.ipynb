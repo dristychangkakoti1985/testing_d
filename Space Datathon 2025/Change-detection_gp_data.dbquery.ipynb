{
 "cells": [
  {
   "cell_type": "code",
   "execution_count": 0,
   "metadata": {
    "application/vnd.databricks.v1+cell": {
     "cellMetadata": {
      "byteLimit": 10485760,
      "rowLimit": 64000
     },
     "inputWidgets": {},
     "nuid": "c80062bd-1d88-4b86-a8cb-9a73f42506be",
     "showTitle": false,
     "tableResultSettingsMap": {},
     "title": ""
    }
   },
   "outputs": [],
   "source": [
    "%sql\n",
    "CREATE TABLE workspace.default.change_log AS\n",
    "WITH yesterday AS (\n",
    "    SELECT *, 'yesterday' AS source FROM workspace.default.gp_latest_20250809_233228s\n",
    "),\n",
    "today AS (\n",
    "    SELECT *, 'today' AS source FROM workspace.default.gp_latest_20250810_221255s\n",
    ")\n",
    "SELECT\n",
    "    COALESCE(y.OBJECT_ID, t.OBJECT_ID) AS satellite_id,\n",
    "    COALESCE(y.EPOCH, t.EPOCH) AS epoch,\n",
    "    CASE\n",
    "        WHEN y.source IS NULL THEN 'new_record'\n",
    "        WHEN t.source IS NULL THEN 'deleted_record'\n",
    "        WHEN y.TLE_LINE1 <> t.TLE_LINE1 OR y.TLE_LINE2 <> t.TLE_LINE2 THEN 'modified_record'\n",
    "        ELSE 'no_change'\n",
    "    END AS change_type\n",
    "FROM yesterday y\n",
    "FULL OUTER JOIN today t\n",
    "ON y.OBJECT_ID = t.OBJECT_ID AND y.EPOCH = t.EPOCH;\n",
    "\n",
    "\n",
    "\n",
    "MERGE INTO workspace.default.change_log AS target\n",
    "USING (\n",
    "    WITH yesterday AS (\n",
    "        SELECT *, 'yesterday' AS source FROM workspace.default.gp_latest_20250809_233228s\n",
    "    ),\n",
    "    today AS (\n",
    "        SELECT *, 'today' AS source FROM workspace.default.gp_latest_20250812_033548s\n",
    "    )\n",
    "    SELECT\n",
    "        COALESCE(y.OBJECT_ID, t.OBJECT_ID) AS satellite_id,\n",
    "        COALESCE(y.EPOCH, t.EPOCH) AS epoch,\n",
    "        CASE\n",
    "            WHEN y.source IS NULL THEN 'new_record'\n",
    "            WHEN t.source IS NULL THEN 'deleted_record'\n",
    "            WHEN y.TLE_LINE1 <> t.TLE_LINE1 OR y.TLE_LINE2 <> t.TLE_LINE2 THEN 'modified_record'\n",
    "            ELSE 'no_change'\n",
    "        END AS change_type\n",
    "    FROM yesterday y\n",
    "    FULL OUTER JOIN today t\n",
    "    ON y.OBJECT_ID = t.OBJECT_ID AND y.EPOCH = t.EPOCH\n",
    ") AS source\n",
    "ON target.satellite_id = source.satellite_id AND target.epoch = source.epoch\n",
    "WHEN MATCHED AND source.change_type <> 'no_change' THEN\n",
    "    UPDATE SET target.change_type = source.change_type\n",
    "WHEN NOT MATCHED THEN\n",
    "    INSERT (satellite_id, epoch, change_type)\n",
    "    VALUES (source.satellite_id, source.epoch, source.change_type);\n",
    "\n",
    "\n",
    "\n",
    "\n",
    "\n"
   ]
  }
 ],
 "metadata": {
  "application/vnd.databricks.v1+notebook": {
   "computePreferences": null,
   "dashboards": [],
   "environmentMetadata": null,
   "inputWidgetPreferences": null,
   "language": "sql",
   "notebookMetadata": {
    "pythonIndentUnit": 4,
    "sqlQueryOptions": {
     "applyAutoLimit": false,
     "catalog": "workspace",
     "schema": "default"
    }
   },
   "notebookName": "Change-detection_gp_data.dbquery.ipynb",
   "widgets": {}
  },
  "language_info": {
   "name": "sql"
  }
 },
 "nbformat": 4,
 "nbformat_minor": 0
}
