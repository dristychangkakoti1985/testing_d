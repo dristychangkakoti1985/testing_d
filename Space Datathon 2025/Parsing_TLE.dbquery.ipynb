{
 "cells": [
  {
   "cell_type": "code",
   "execution_count": 0,
   "metadata": {
    "application/vnd.databricks.v1+cell": {
     "cellMetadata": {
      "byteLimit": 10485760,
      "rowLimit": 64000
     },
     "inputWidgets": {},
     "nuid": "155cb81d-f5ea-4422-b45f-9f6f05dc51ec",
     "showTitle": false,
     "tableResultSettingsMap": {},
     "title": ""
    }
   },
   "outputs": [],
   "source": [
    "WITH parsed AS (\n",
    "    SELECT\n",
    "        -- Line 1\n",
    "        TRY_CAST(SUBSTRING(TLE_LINE1, 3, 5) AS INT) AS NORAD_CAT_ID,\n",
    "        SUBSTRING(TLE_LINE1, 10, 8) AS INT_DESIGNATOR,\n",
    "        TRY_CAST(SUBSTRING(TLE_LINE1, 19, 2) AS INT) AS EPOCH_YEAR,\n",
    "        TRY_CAST(SUBSTRING(TLE_LINE1, 21, 12) AS DOUBLE) AS EPOCH_DAY,\n",
    "\n",
    "        -- Line 2 orbital elements\n",
    "        TRY_CAST(SUBSTRING(TLE_LINE2, 9, 8) AS DOUBLE) AS INCLINATION,\n",
    "        TRY_CAST(SUBSTRING(TLE_LINE2, 18, 8) AS DOUBLE) AS RAAN,\n",
    "        TRY_CAST(SUBSTRING(TLE_LINE2, 27, 7) AS DOUBLE) / 1e7 AS ECCENTRICITY,\n",
    "        TRY_CAST(SUBSTRING(TLE_LINE2, 35, 8) AS DOUBLE) AS ARG_OF_PERIGEE,\n",
    "        TRY_CAST(SUBSTRING(TLE_LINE2, 44, 8) AS DOUBLE) AS MEAN_ANOMALY,\n",
    "        TRY_CAST(SUBSTRING(TLE_LINE2, 53, 11) AS DOUBLE) AS MEAN_MOTION\n",
    "    FROM workspace.default.gp_latest_20250813_190840s\n",
    ")\n",
    "SELECT\n",
    "    *,\n",
    "    -- Mean motion to semi-major axis (n in rev/day, convert to seconds)\n",
    "    POWER(398600.4418 / POWER((MEAN_MOTION * 2 * PI()) / 86400, 2), 1.0/3.0) AS SEMI_MAJOR_AXIS_KM,\n",
    "    -- Approx altitude above Earth's surface\n",
    "    POWER(398600.4418 / POWER((MEAN_MOTION * 2 * PI()) / 86400, 2), 1.0/3.0) - 6371 AS ALTITUDE_KM,\n",
    "    -- Orbit classification\n",
    "    CASE\n",
    "        WHEN POWER(398600.4418 / POWER((MEAN_MOTION * 2 * PI()) / 86400, 2), 1.0/3.0) - 6371 < 2000 THEN 'LEO'\n",
    "        WHEN POWER(398600.4418 / POWER((MEAN_MOTION * 2 * PI()) / 86400, 2), 1.0/3.0) - 6371 BETWEEN 2000 AND 35786 THEN 'MEO'\n",
    "        WHEN ABS(POWER(398600.4418 / POWER((MEAN_MOTION * 2 * PI()) / 86400, 2), 1.0/3.0) - 6371 - 35786) < 200 THEN 'GEO'\n",
    "        ELSE 'HEO'\n",
    "    END AS ORBIT_CLASS\n",
    "FROM parsed;\n",
    "\n",
    "-- Create a new table with parsed and calculated orbital elements\n",
    "drop table if exists workspace.default.parsed_orbital_elements_0904;\n",
    "CREATE TABLE workspace.default.parsed_orbital_elements_0904 AS\n",
    "WITH parsed AS (\n",
    "    SELECT *,\n",
    "        -- Line 1\n",
    "        TRY_CAST(SUBSTRING(TLE_LINE1, 3, 5) AS INT) AS NORAD_CAT_ID_p,\n",
    "        SUBSTRING(TLE_LINE1, 10, 8) AS INT_DESIGNATOR,\n",
    "        TRY_CAST(SUBSTRING(TLE_LINE1, 19, 2) AS INT) AS EPOCH_YEAR,\n",
    "        TRY_CAST(SUBSTRING(TLE_LINE1, 21, 12) AS DOUBLE) AS EPOCH_DAY,\n",
    "\n",
    "        -- Line 2 orbital elements\n",
    "        TRY_CAST(SUBSTRING(TLE_LINE2, 9, 8) AS DOUBLE) AS INCLINATION_p,\n",
    "        TRY_CAST(SUBSTRING(TLE_LINE2, 18, 8) AS DOUBLE) AS RAAN,\n",
    "        TRY_CAST(SUBSTRING(TLE_LINE2, 27, 7) AS DOUBLE) / 1e7 AS ECCENTRICITY_p,\n",
    "        TRY_CAST(SUBSTRING(TLE_LINE2, 35, 8) AS DOUBLE) AS ARG_OF_PERIGEE,\n",
    "        TRY_CAST(SUBSTRING(TLE_LINE2, 44, 8) AS DOUBLE) AS MEAN_ANOMALY_p,\n",
    "        TRY_CAST(SUBSTRING(TLE_LINE2, 53, 11) AS DOUBLE) AS MEAN_MOTION_p\n",
    "    FROM workspace.default.gp_latest_20250904_231748s\n",
    "),\n",
    "orbit_calc AS (\n",
    "    SELECT\n",
    "        *,\n",
    "        -- Semi-major axis (from mean motion)\n",
    "        POWER(398600.4418 / POWER((MEAN_MOTION_p * 2 * PI()) / 86400, 2), 1.0/3.0) AS SEMI_MAJOR_AXIS_KM\n",
    "    FROM parsed\n",
    ")\n",
    "SELECT\n",
    "    *,\n",
    "    SEMI_MAJOR_AXIS_KM - 6371 AS ALTITUDE_KM,\n",
    "    -- Perigee and Apogee\n",
    "    (SEMI_MAJOR_AXIS_KM * (1 - ECCENTRICITY)) - 6371 AS PERIGEE_KM,\n",
    "    (SEMI_MAJOR_AXIS_KM * (1 + ECCENTRICITY)) - 6371 AS APOGEE_KM,\n",
    "    -- Orbit classification\n",
    "    CASE\n",
    "        WHEN (SEMI_MAJOR_AXIS_KM - 6371) < 2000 THEN 'LEO'\n",
    "        WHEN (SEMI_MAJOR_AXIS_KM - 6371) BETWEEN 2000 AND 35786 THEN 'MEO'\n",
    "        WHEN ABS((SEMI_MAJOR_AXIS_KM - 6371) - 35786) < 200 THEN 'GEO'\n",
    "        ELSE 'HEO'\n",
    "    END AS ORBIT_CLASS\n",
    "FROM orbit_calc;\n",
    "\n",
    "\n",
    "\n",
    "\n",
    "select * from parsed_orbital_elements \n"
   ]
  }
 ],
 "metadata": {
  "application/vnd.databricks.v1+notebook": {
   "computePreferences": null,
   "dashboards": [],
   "environmentMetadata": null,
   "inputWidgetPreferences": null,
   "language": "sql",
   "notebookMetadata": {
    "pythonIndentUnit": 4,
    "sqlQueryOptions": {
     "applyAutoLimit": false,
     "catalog": "workspace",
     "schema": "default"
    }
   },
   "notebookName": "Parsing_TLE.dbquery.ipynb",
   "widgets": {}
  },
  "language_info": {
   "name": "sql"
  }
 },
 "nbformat": 4,
 "nbformat_minor": 0
}
