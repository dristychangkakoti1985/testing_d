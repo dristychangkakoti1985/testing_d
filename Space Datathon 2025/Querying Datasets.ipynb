{
 "cells": [
  {
   "cell_type": "code",
   "execution_count": 0,
   "metadata": {
    "application/vnd.databricks.v1+cell": {
     "cellMetadata": {
      "byteLimit": 2048000,
      "rowLimit": 10000
     },
     "inputWidgets": {},
     "nuid": "36f78913-c260-4a02-9e53-0452f254c09b",
     "showTitle": false,
     "tableResultSettingsMap": {},
     "title": ""
    }
   },
   "outputs": [],
   "source": [
    "%python\n",
    "import pandas as pd\n",
    "from datetime import datetime, timedelta\n",
    "\n",
    "# Define the file path\n",
    "file_path = '/Volumes/workspace/default/spacedata/ELSET_data_08092025.csv'\n",
    "\n",
    "# Read the CSV file into a DataFrame\n",
    "df = pd.read_csv(file_path)\n",
    "\n",
    "# Display the first few rows of the DataFrame\n",
    "display(df.head())\n",
    "\n",
    "# Convert to Spark DataFrame\n",
    "df_spark = spark.createDataFrame(df)\n",
    "\n",
    "# Adjust the table name to include yesterday's date\n",
    "yesterday = datetime.utcnow() - timedelta(days=1)\n",
    "table_name = f\"gp_latest_{yesterday.strftime('%Y%m%d_%H%M%S')}s\"\n",
    "\n",
    "# Save as Delta table\n",
    "df_spark.write.format(\"delta\").mode(\"overwrite\").saveAsTable(table_name)"
   ]
  },
  {
   "cell_type": "code",
   "execution_count": 0,
   "metadata": {
    "application/vnd.databricks.v1+cell": {
     "cellMetadata": {
      "byteLimit": 2048000,
      "rowLimit": 10000
     },
     "inputWidgets": {},
     "nuid": "338e17ce-1720-484f-9ec9-865c148c74a1",
     "showTitle": false,
     "tableResultSettingsMap": {},
     "title": ""
    }
   },
   "outputs": [],
   "source": [
    "%python\n",
    "import requests\n",
    "import pandas as pd\n",
    "from io import StringIO\n",
    "from datetime import datetime\n",
    "\n",
    "USERNAME = \"dristy.changkakoti@gmail.com\"\n",
    "PASSWORD = \"SouthJordan1!*5\"\n",
    "\n",
    "# Space-Track query: latest 30 days of GP data in CSV format\n",
    "URL = (\n",
    "    \"https://www.space-track.org/basicspacedata/query/class/gp\"\n",
    "    \"/EPOCH/%3Enow-30\"\n",
    "    \"/orderby/NORAD_CAT_ID,EPOCH\"\n",
    "    \"/format/csv\"\n",
    ")\n",
    "\n",
    "def fetch_latest_tle():\n",
    "    session = requests.Session()\n",
    "\n",
    "    # Login\n",
    "    login_url = \"https://www.space-track.org/ajaxauth/login\"\n",
    "    resp = session.post(login_url, data={\"identity\": USERNAME, \"password\": PASSWORD})\n",
    "    resp.raise_for_status()\n",
    "\n",
    "    # Download CSV\n",
    "    resp = session.get(URL)\n",
    "    resp.raise_for_status()\n",
    "\n",
    "    # Convert to DataFrame\n",
    "    df = pd.read_csv(StringIO(resp.text))\n",
    "    print(f\"Downloaded {len(df)} records\")\n",
    "\n",
    "    # Save as Delta table\n",
    "    # delta_path = \"/Volumes/workspace/default/spacedata/gp_latest_delta\"\n",
    "    df_spark = spark.createDataFrame(df)\n",
    "    table_name = f\"gp_latest_{datetime.utcnow().strftime('%Y%m%d_%H%M%S')}s\"\n",
    "    df_spark.write.format(\"delta\").mode(\"overwrite\").saveAsTable(table_name)\n",
    "\n",
    "    return df\n",
    "\n",
    "if __name__ == \"__main__\":\n",
    "    fetch_latest_tle()"
   ]
  }
 ],
 "metadata": {
  "application/vnd.databricks.v1+notebook": {
   "computePreferences": null,
   "dashboards": [],
   "environmentMetadata": {
    "base_environment": "",
    "environment_version": "2"
   },
   "inputWidgetPreferences": null,
   "language": "python",
   "notebookMetadata": {
    "pythonIndentUnit": 4
   },
   "notebookName": "Querying Datasets",
   "widgets": {}
  },
  "language_info": {
   "name": "python"
  }
 },
 "nbformat": 4,
 "nbformat_minor": 0
}
