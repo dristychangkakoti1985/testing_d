{
 "cells": [
  {
   "cell_type": "code",
   "execution_count": 0,
   "metadata": {
    "application/vnd.databricks.v1+cell": {
     "cellMetadata": {
      "byteLimit": 2048000,
      "rowLimit": 10000
     },
     "inputWidgets": {},
     "nuid": "36f78913-c260-4a02-9e53-0452f254c09b",
     "showTitle": false,
     "tableResultSettingsMap": {},
     "title": ""
    }
   },
   "outputs": [],
   "source": [
    "%python\n",
    "import pandas as pd\n",
    "from datetime import datetime, timedelta\n",
    "\n",
    "# Define the file path\n",
    "file_path = '/Volumes/workspace/default/spacedata/ELSET_data_08092025.csv'\n",
    "\n",
    "# Read the CSV file into a DataFrame\n",
    "df = pd.read_csv(file_path)\n",
    "\n",
    "# Display the first few rows of the DataFrame\n",
    "display(df.head())\n",
    "\n",
    "# Convert to Spark DataFrame\n",
    "df_spark = spark.createDataFrame(df)\n",
    "\n",
    "# Adjust the table name to include yesterday's date\n",
    "yesterday = datetime.utcnow() - timedelta(days=1)\n",
    "table_name = f\"gp_latest_{yesterday.strftime('%Y%m%d_%H%M%S')}s\"\n",
    "\n",
    "# Save as Delta table\n",
    "df_spark.write.format(\"delta\").mode(\"overwrite\").saveAsTable(table_name)"
   ]
  },
  {
   "cell_type": "code",
   "execution_count": 0,
   "metadata": {
    "application/vnd.databricks.v1+cell": {
     "cellMetadata": {
      "byteLimit": 2048000,
      "rowLimit": 10000
     },
     "inputWidgets": {},
     "nuid": "338e17ce-1720-484f-9ec9-865c148c74a1",
     "showTitle": false,
     "tableResultSettingsMap": {},
     "title": ""
    }
   },
   "outputs": [],
   "source": [
    "%python\n",
    "import requests\n",
    "import pandas as pd\n",
    "from io import StringIO\n",
    "from datetime import datetime\n",
    "\n",
    "USERNAME = \"dristy.changkakoti@gmail.com\"\n",
    "PASSWORD = \"SouthJordan1!*5\"\n",
    "\n",
    "# Space-Track query: latest 30 days of GP data in CSV format\n",
    "URL = (\n",
    "    \"https://www.space-track.org/basicspacedata/query/class/gp\"\n",
    "    \"/EPOCH/%3Enow-30\"\n",
    "    \"/orderby/NORAD_CAT_ID,EPOCH\"\n",
    "    \"/format/csv\"\n",
    ")\n",
    "\n",
    "def fetch_latest_tle():\n",
    "    session = requests.Session()\n",
    "\n",
    "    # Login\n",
    "    login_url = \"https://www.space-track.org/ajaxauth/login\"\n",
    "    resp = session.post(login_url, data={\"identity\": USERNAME, \"password\": PASSWORD})\n",
    "    resp.raise_for_status()\n",
    "\n",
    "    # Download CSV\n",
    "    resp = session.get(URL)\n",
    "    resp.raise_for_status()\n",
    "\n",
    "    # Convert to DataFrame\n",
    "    df = pd.read_csv(StringIO(resp.text))\n",
    "    print(f\"Downloaded {len(df)} records\")\n",
    "\n",
    "    # Save as Delta table\n",
    "    # delta_path = \"/Volumes/workspace/default/spacedata/gp_latest_delta\"\n",
    "    df_spark = spark.createDataFrame(df)\n",
    "    table_name = f\"gp_latest_{datetime.utcnow().strftime('%Y%m%d_%H%M%S')}s\"\n",
    "    df_spark.write.format(\"delta\").mode(\"overwrite\").saveAsTable(table_name)\n",
    "\n",
    "    return df\n",
    "\n",
    "if __name__ == \"__main__\":\n",
    "    fetch_latest_tle()"
   ]
  },
  {
   "cell_type": "code",
   "execution_count": 0,
   "metadata": {
    "application/vnd.databricks.v1+cell": {
     "cellMetadata": {
      "byteLimit": 2048000,
      "rowLimit": 10000
     },
     "inputWidgets": {},
     "nuid": "647e6344-4824-4254-a41b-31a1f7aa282d",
     "showTitle": false,
     "tableResultSettingsMap": {},
     "title": ""
    }
   },
   "outputs": [],
   "source": [
    "# After creating the Pandas DataFrame in cell 2, save it as a CSV file\n",
    "df = fetch_latest_tle()\n",
    "df.to_csv(\"gp_latest.csv\", index=False)"
   ]
  },
  {
   "cell_type": "code",
   "execution_count": 0,
   "metadata": {
    "application/vnd.databricks.v1+cell": {
     "cellMetadata": {
      "byteLimit": 2048000,
      "rowLimit": 10000
     },
     "inputWidgets": {},
     "nuid": "17e7219c-b78a-4430-9ef5-5cf46f6adb26",
     "showTitle": false,
     "tableResultSettingsMap": {},
     "title": ""
    }
   },
   "outputs": [],
   "source": [
    "%python\n",
    "df_csv = spark.read.option(\"header\", \"true\").csv(\n",
    "    \"/Volumes/workspace/default/spacedata/cdms_export.csv\"\n",
    ")\n",
    "\n",
    "df_csv.write.format(\"delta\").mode(\"overwrite\").saveAsTable(\"default.cdms_export_delta\")"
   ]
  },
  {
   "cell_type": "code",
   "execution_count": 0,
   "metadata": {
    "application/vnd.databricks.v1+cell": {
     "cellMetadata": {
      "byteLimit": 2048000,
      "rowLimit": 10000
     },
     "inputWidgets": {},
     "nuid": "89379cd7-3c5e-44a2-bc24-61d6d0a734c3",
     "showTitle": false,
     "tableResultSettingsMap": {},
     "title": ""
    }
   },
   "outputs": [],
   "source": [
    "%python\n",
    "df_csv = spark.read.option(\"header\", \"true\").csv(\n",
    "    \"/Volumes/workspace/default/spacedata/cdm_filtered_snapshot.csv\"\n",
    ")\n",
    "\n",
    "df_csv.write.format(\"delta\").mode(\"overwrite\").saveAsTable(\"default.cdms_filtered_delta\")"
   ]
  },
  {
   "cell_type": "code",
   "execution_count": 0,
   "metadata": {
    "application/vnd.databricks.v1+cell": {
     "cellMetadata": {
      "byteLimit": 2048000,
      "rowLimit": 10000
     },
     "inputWidgets": {},
     "nuid": "4b4005ae-a023-4267-99ea-4f4581fc3ba1",
     "showTitle": false,
     "tableResultSettingsMap": {},
     "title": ""
    }
   },
   "outputs": [],
   "source": [
    "import requests, pandas as pd, time\n",
    "def get_cdms_with_retry(session, url, max_retries=3, delay=2):\n",
    "    for attempt in range(max_retries):\n",
    "        resp = session.get(url)\n",
    "        if resp.status_code == 500:\n",
    "            print(f\"[{attempt+1}/{max_retries}] Error 500. Retrying in {delay}s...\")\n",
    "            time.sleep(delay)\n",
    "            delay *= 2\n",
    "            continue\n",
    "        resp.raise_for_status()\n",
    "        data = resp.json()\n",
    "        if isinstance(data, dict):\n",
    "            data = [data]\n",
    "        df = pd.DataFrame(data)\n",
    "        if \"TCA\" in df:\n",
    "            df[\"TCA\"] = pd.to_datetime(df[\"TCA\"], errors=\"coerce\")\n",
    "        if \"MISS_DISTANCE\" in df:\n",
    "            df[\"MISS_DISTANCE\"] = pd.to_numeric(df[\"MISS_DISTANCE\"], errors=\"coerce\")\n",
    "        return df.sort_values(\"TCA\").reset_index(drop=True)\n",
    "    raise Exception(\"Failed to fetch CDMs after multiple retries.\")\n",
    "# Usage\n",
    "session = requests.Session()\n",
    "USERNAME = \"dristy.changkakoti@gmail.com\"\n",
    "PASSWORD = \"SouthJordan1!*5\"\n",
    "session.post(\"https://www.space-track.org/ajaxauth/login\", data={'identity': USERNAME, 'password': PASSWORD})\n",
    "cdm_url = \"https://www.space-track.org/basicspacedata/query/class/cdm_public/orderby/TCA asc/format/json\"\n",
    "try:\n",
    "    df_cdms = get_cdms_with_retry(session, cdm_url)\n",
    "    print(\"Retrieved\", len(df_cdms), \"CDMs\")\n",
    "except Exception:\n",
    "    print(\"Error persists. Trying fallback: limit 5...\")\n",
    "    cdm_url_small = cdm_url.replace(\"format/json\", \"limit/5/format/json\")\n",
    "    df_cdms = get_cdms_with_retry(session, cdm_url_small)\n",
    "df_cdms.head()"
   ]
  },
  {
   "cell_type": "code",
   "execution_count": 0,
   "metadata": {
    "application/vnd.databricks.v1+cell": {
     "cellMetadata": {
      "byteLimit": 2048000,
      "rowLimit": 10000
     },
     "inputWidgets": {},
     "nuid": "5c0069cb-0d47-4e26-b1e5-1c4a2ac67656",
     "showTitle": false,
     "tableResultSettingsMap": {},
     "title": ""
    }
   },
   "outputs": [],
   "source": [
    "%python\n",
    "# Save the df_cdms DataFrame to a CSV file\n",
    "df_cdms.to_csv(\"cdms_export.csv\", index=False)"
   ]
  },
  {
   "cell_type": "code",
   "execution_count": 0,
   "metadata": {
    "application/vnd.databricks.v1+cell": {
     "cellMetadata": {
      "byteLimit": 2048000,
      "rowLimit": 10000
     },
     "inputWidgets": {},
     "nuid": "a97581e7-0510-4978-80b0-99a1038b8e6d",
     "showTitle": false,
     "tableResultSettingsMap": {},
     "title": ""
    }
   },
   "outputs": [],
   "source": [
    "df_orbital = spark.read.table(\"workspace.default.parsed_orbital_elements\")\n",
    "df_orbital.write \\\n",
    "    .option(\"header\", True) \\\n",
    "    .mode(\"overwrite\") \\\n",
    "    .csv(\"/Volumes/workspace/default/spacedata/parsed_orbital_elements_export.csv\")"
   ]
  },
  {
   "cell_type": "code",
   "execution_count": 0,
   "metadata": {
    "application/vnd.databricks.v1+cell": {
     "cellMetadata": {
      "byteLimit": 2048000,
      "rowLimit": 10000
     },
     "inputWidgets": {},
     "nuid": "8216827b-47da-4b75-a865-c014130f8624",
     "showTitle": false,
     "tableResultSettingsMap": {},
     "title": ""
    }
   },
   "outputs": [],
   "source": [
    "df_orbital = spark.read.table(\"workspace.default.parsed_orbital_elements\")\n",
    "df_cdms = spark.read.table(\"default.cdms_filtered_delta\")\n",
    "\n",
    "df_joined = df_orbital.join(\n",
    "    df_cdms,\n",
    "    df_orbital[\"NORAD_CAT_ID\"] == df_cdms[\"SAT_1_ID\"],\n",
    "    \"left\"\n",
    ")\n",
    "\n",
    "display(df_joined)"
   ]
  }
 ],
 "metadata": {
  "application/vnd.databricks.v1+notebook": {
   "computePreferences": null,
   "dashboards": [],
   "environmentMetadata": {
    "base_environment": "",
    "environment_version": "2"
   },
   "inputWidgetPreferences": null,
   "language": "python",
   "notebookMetadata": {
    "pythonIndentUnit": 4
   },
   "notebookName": "Querying Datasets",
   "widgets": {}
  },
  "language_info": {
   "name": "python"
  }
 },
 "nbformat": 4,
 "nbformat_minor": 0
}
