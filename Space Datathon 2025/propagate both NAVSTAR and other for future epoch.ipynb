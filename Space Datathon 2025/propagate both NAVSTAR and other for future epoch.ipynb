{
 "cells": [
  {
   "cell_type": "code",
   "execution_count": 0,
   "metadata": {
    "application/vnd.databricks.v1+cell": {
     "cellMetadata": {
      "byteLimit": 2048000,
      "rowLimit": 10000
     },
     "inputWidgets": {},
     "nuid": "1c6aa0fa-cb0d-4e67-937e-7bf8ae6fa0d9",
     "showTitle": false,
     "tableResultSettingsMap": {},
     "title": ""
    }
   },
   "outputs": [],
   "source": [
    "from pyspark.sql import SparkSession\n",
    "import pandas as pd\n",
    "import numpy as np\n",
    "from sgp4.api import Satrec, jday\n",
    "\n",
    "# Spark session\n",
    "spark = SparkSession.builder.getOrCreate()\n",
    "\n",
    "# Load from Delta\n",
    "df = spark.read.table(\"workspace.default.parsed_orbital_elements_flagged\")\n",
    "\n",
    "# Convert to Pandas for propagation (SGP4 works easier with Python objects)\n",
    "sat_df = df.toPandas()\n",
    "\n",
    "# Split NAVSTAR vs others\n",
    "navstar_df = sat_df[sat_df[\"is_gps_satellite\"] == True].copy()\n",
    "others_df  = sat_df[sat_df[\"is_gps_satellite\"] == False].copy()\n",
    "\n",
    "# Target epoch (Sept 10, 2025)\n",
    "year, month, day, hour, minute, second = 2025, 9, 10, 0, 0, 0\n",
    "jd, fr = jday(year, month, day, hour, minute, second)\n",
    "\n",
    "def propagate(line1, line2):\n",
    "    sat = Satrec.twoline2rv(line1, line2)\n",
    "    e, r, v = sat.sgp4(jd, fr)\n",
    "    if e == 0:\n",
    "        return np.array(r)  # [X, Y, Z]\n",
    "    return None\n",
    "\n",
    "# Propagate NAVSTAR sats\n",
    "navstar_positions = []\n",
    "for _, row in navstar_df.iterrows():\n",
    "    pos = propagate(row[\"TLE_LINE1\"], row[\"TLE_LINE2\"])\n",
    "    if pos is not None:\n",
    "        navstar_positions.append({\n",
    "            \"Satellite\": row[\"OBJECT_NAME\"],\n",
    "            \"Object_ID\": row[\"OBJECT_ID\"],\n",
    "            \"Object_Type\": row[\"OBJECT_TYPE\"],\n",
    "            \"ORBIT_CLASS\": row[\"ORBIT_CLASS\"],\n",
    "            \"X\": pos[0],\n",
    "            \"Y\": pos[1],\n",
    "            \"Z\": pos[2]\n",
    "        })\n",
    "navstar_positions = pd.DataFrame(navstar_positions)\n",
    "\n",
    "# Propagate other sats\n",
    "other_positions = []\n",
    "for _, row in others_df.iterrows():\n",
    "    pos = propagate(row[\"TLE_LINE1\"], row[\"TLE_LINE2\"])\n",
    "    if pos is not None:\n",
    "        other_positions.append({\n",
    "            \"Satellite\": row[\"OBJECT_NAME\"],\n",
    "            \"Object_ID\": row[\"OBJECT_ID\"],\n",
    "            \"Object_Type\": row[\"OBJECT_TYPE\"],\n",
    "            \"ORBIT_CLASS\": row[\"ORBIT_CLASS\"],\n",
    "            \"X\": pos[0],\n",
    "            \"Y\": pos[1],\n",
    "            \"Z\": pos[2]\n",
    "        })\n",
    "other_positions = pd.DataFrame(other_positions)\n",
    "\n",
    "# Nearest neighbors calculation\n",
    "nearest_results = []\n",
    "for _, nav in navstar_positions.iterrows():\n",
    "    nav_pos = np.array([nav[\"X\"], nav[\"Y\"], nav[\"Z\"]])\n",
    "\n",
    "    other_positions[\"Distance_km\"] = np.linalg.norm(\n",
    "        other_positions[[\"X\",\"Y\",\"Z\"]].values - nav_pos, axis=1\n",
    "    )\n",
    "\n",
    "    nearest = other_positions.nsmallest(5, \"Distance_km\")\n",
    "    for _, near in nearest.iterrows():\n",
    "        nearest_results.append({\n",
    "            \"NAVSTAR\": nav[\"Satellite\"],\n",
    "            \"Nearest_Sat\": near[\"Satellite\"],\n",
    "            \"Object_ID\": near[\"Object_ID\"],\n",
    "            \"Distance_km\": near[\"Distance_km\"],\n",
    "            \"Object_Type\": near[\"Object_Type\"],\n",
    "            \"ORBIT_CLASS\": near[\"ORBIT_CLASS\"],\n",
    "        })\n",
    "\n",
    "nearest_df = pd.DataFrame(nearest_results)\n",
    "\n",
    "# Save back to Delta for reuse\n",
    "nearest_spark_df = spark.createDataFrame(nearest_df)\n",
    "# nearest_spark_df.write.format(\"delta\").mode(\"overwrite\").saveAsTable(\"default.navstar_nearest_neighbors\")\n",
    "display(nearest_spark_df)\n"
   ]
  },
  {
   "cell_type": "code",
   "execution_count": 0,
   "metadata": {
    "application/vnd.databricks.v1+cell": {
     "cellMetadata": {
      "byteLimit": 2048000,
      "rowLimit": 10000
     },
     "inputWidgets": {},
     "nuid": "27754228-fe94-4dcc-b5c4-c8b6889b6c3d",
     "showTitle": false,
     "tableResultSettingsMap": {},
     "title": ""
    }
   },
   "outputs": [],
   "source": [
    "%python\n",
    "%pip install skyfield"
   ]
  },
  {
   "cell_type": "code",
   "execution_count": 0,
   "metadata": {
    "application/vnd.databricks.v1+cell": {
     "cellMetadata": {
      "byteLimit": 2048000,
      "rowLimit": 10000
     },
     "inputWidgets": {},
     "nuid": "dda41ff9-95d1-4e72-95d8-32f7affb8560",
     "showTitle": false,
     "tableResultSettingsMap": {},
     "title": ""
    }
   },
   "outputs": [],
   "source": [
    "from skyfield.api import EarthSatellite, load\n",
    "from datetime import datetime\n",
    "\n",
    "ts = load.timescale()\n",
    "\n",
    "def get_future_position(line1, line2, target_date_str):\n",
    "    \"\"\"Return (x,y,z) in km for a given satellite at target_date.\"\"\"\n",
    "    sat = EarthSatellite(line1, line2, \"sat\", ts)\n",
    "    target_date = datetime.fromisoformat(target_date_str)  # e.g. '2025-09-10T00:00:00'\n",
    "    t = ts.utc(target_date)\n",
    "    pos = sat.at(t).position.km  # returns (x, y, z)\n",
    "    return pos[0], pos[1], pos[2]\n"
   ]
  },
  {
   "cell_type": "code",
   "execution_count": 0,
   "metadata": {
    "application/vnd.databricks.v1+cell": {
     "cellMetadata": {
      "byteLimit": 2048000,
      "rowLimit": 10000
     },
     "inputWidgets": {},
     "nuid": "ada59dc4-11d9-4925-a4f2-37320ab99610",
     "showTitle": false,
     "tableResultSettingsMap": {},
     "title": ""
    }
   },
   "outputs": [],
   "source": [
    "%python\n",
    "from pyspark.sql import functions as F\n",
    "\n",
    "# Load the parsed orbital elements table\n",
    "df = spark.read.table(\"workspace.default.parsed_orbital_elements_flagged\")\n",
    "\n",
    "# Filter NAVSTAR satellites\n",
    "navstar_df = df.filter(F.col(\"is_gps_satellite\") == True)\n",
    "\n",
    "# Collect OBJECT_ID, TLE_LINE1, and TLE_LINE2 as a Python list of dictionaries\n",
    "navstar_list = [\n",
    "    {\n",
    "        \"OBJECT_ID\": row.OBJECT_ID,\n",
    "        \"TLE_LINE1\": row.TLE_LINE1,\n",
    "        \"TLE_LINE2\": row.TLE_LINE2\n",
    "    }\n",
    "    for row in navstar_df.select(\"OBJECT_ID\", \"TLE_LINE1\", \"TLE_LINE2\").collect()\n",
    "]\n",
    "\n",
    "print(\"NAVSTAR satellites:\", navstar_list[:10])  # check first 10"
   ]
  },
  {
   "cell_type": "code",
   "execution_count": 0,
   "metadata": {
    "application/vnd.databricks.v1+cell": {
     "cellMetadata": {
      "byteLimit": 2048000,
      "rowLimit": 10000
     },
     "inputWidgets": {},
     "nuid": "5655ba86-e1a2-45c1-a6fa-07d46e9fcfa6",
     "showTitle": false,
     "tableResultSettingsMap": {},
     "title": ""
    }
   },
   "outputs": [],
   "source": [
    "%python\n",
    "from pyspark.sql import functions as F\n",
    "\n",
    "# Filter Other satellites\n",
    "others_df = df.filter(F.col(\"is_gps_satellite\") == False)\n",
    "\n",
    "# Collect OBJECT_ID, TLE_LINE1, and TLE_LINE2 as a Python list of dictionaries\n",
    "others_list = [\n",
    "    {\n",
    "        \"OBJECT_ID\": row.OBJECT_ID,\n",
    "        \"TLE_LINE1\": row.TLE_LINE1,\n",
    "        \"TLE_LINE2\": row.TLE_LINE2\n",
    "    }\n",
    "    for row in others_df.select(\"OBJECT_ID\", \"TLE_LINE1\", \"TLE_LINE2\").collect()\n",
    "]"
   ]
  },
  {
   "cell_type": "code",
   "execution_count": 0,
   "metadata": {
    "application/vnd.databricks.v1+cell": {
     "cellMetadata": {
      "byteLimit": 2048000,
      "rowLimit": 10000
     },
     "inputWidgets": {},
     "nuid": "7e975137-8aa3-4cf6-b124-59d1ec899e9f",
     "showTitle": false,
     "tableResultSettingsMap": {},
     "title": ""
    }
   },
   "outputs": [],
   "source": [
    "from skyfield.api import EarthSatellite, load\n",
    "from datetime import datetime\n",
    "\n",
    "ts = load.timescale()\n",
    "\n",
    "def get_future_position(line1, line2, target_date_str):\n",
    "    \"\"\"Return (x,y,z) in km for a given satellite at target_date.\"\"\"\n",
    "    sat = EarthSatellite(line1, line2, \"sat\", ts)\n",
    "    target_date = datetime.fromisoformat(target_date_str)  # e.g. '2025-09-10T00:00:00'\n",
    "    t = ts.utc(target_date)\n",
    "    pos = sat.at(t).position.km  # returns (x, y, z)\n",
    "    return pos[0], pos[1], pos[2]\n"
   ]
  },
  {
   "cell_type": "code",
   "execution_count": 0,
   "metadata": {
    "application/vnd.databricks.v1+cell": {
     "cellMetadata": {
      "byteLimit": 2048000,
      "rowLimit": 10000
     },
     "inputWidgets": {},
     "nuid": "6ae2b611-458b-4634-a869-aef19514c3c5",
     "showTitle": false,
     "tableResultSettingsMap": {},
     "title": ""
    }
   },
   "outputs": [],
   "source": [
    "%python\n",
    "import numpy as np\n",
    "from datetime import datetime\n",
    "from pytz import utc\n",
    "\n",
    "def distance_km(p1, p2):\n",
    "    return np.linalg.norm(np.array(p1) - np.array(p2))\n",
    "\n",
    "\n",
    "\n",
    "target_date = \"2025-09-07T00:00:00\"\n",
    "\n",
    "# Convert to timezone-aware datetime (UTC)\n",
    "target_date_dt = datetime.fromisoformat(target_date).replace(tzinfo=utc)\n",
    "\n",
    "# Convert back to ISO string with timezone\n",
    "target_date_str = target_date_dt.isoformat()\n",
    "\n",
    "# target_date_str = target_date_dt.strftime(\"%Y-%m-%dT%H:%M:%S\")  # Keep the target_date as a string\n",
    "\n",
    "conjunctions = []\n",
    "for nav in navstar_list:\n",
    "    nav_pos = get_future_position(nav['TLE_LINE1'], nav['TLE_LINE2'],target_date_str)\n",
    "    for other in others_list:\n",
    "        other_pos = get_future_position(other['TLE_LINE1'], other['TLE_LINE2'],target_date_str)\n",
    "        d = distance_km(nav_pos, other_pos)\n",
    "        if d < 50:  # threshold km\n",
    "            conjunctions.append((nav.OBJECT_ID, other.OBJECT_ID, d))"
   ]
  },
  {
   "cell_type": "code",
   "execution_count": 0,
   "metadata": {
    "application/vnd.databricks.v1+cell": {
     "cellMetadata": {
      "byteLimit": 2048000,
      "rowLimit": 10000
     },
     "inputWidgets": {},
     "nuid": "12892411-aac4-49e1-acdc-0050102dc339",
     "showTitle": false,
     "tableResultSettingsMap": {},
     "title": ""
    }
   },
   "outputs": [],
   "source": [
    "# Precompute positions at target date\n",
    "positions = {}\n",
    "\n",
    "for sat in navstar_list + others_list:\n",
    "    positions[sat[\"OBJECT_ID\"]] = get_future_position(sat[\"TLE_LINE1\"], sat[\"TLE_LINE2\"], target_date)"
   ]
  },
  {
   "cell_type": "code",
   "execution_count": 0,
   "metadata": {
    "application/vnd.databricks.v1+cell": {
     "cellMetadata": {
      "byteLimit": 2048000,
      "rowLimit": 10000
     },
     "inputWidgets": {},
     "nuid": "fe7f8d30-2584-4867-8316-72de1e6910bb",
     "showTitle": false,
     "tableResultSettingsMap": {},
     "title": ""
    }
   },
   "outputs": [],
   "source": [
    "import numpy as np\n",
    "\n",
    "# Extract nav positions\n",
    "nav_ids = [s[\"OBJECT_ID\"] for s in navstar_list]\n",
    "nav_positions = np.array([positions[i] for i in nav_ids])\n",
    "\n",
    "# Extract other positions\n",
    "other_ids = [s[\"OBJECT_ID\"] for s in others_list]\n",
    "other_positions = np.array([positions[i] for i in other_ids])\n",
    "\n",
    "# Compute pairwise distances using broadcasting\n",
    "diff = nav_positions[:, None, :] - other_positions[None, :, :]\n",
    "distances = np.linalg.norm(diff, axis=2)  # shape = (len(nav), len(others))\n",
    "\n",
    "# Find indices where distance < threshold\n",
    "threshold = 50  # km\n",
    "close_pairs = np.argwhere(distances < threshold)\n",
    "\n",
    "# Build results\n",
    "conjunctions = [\n",
    "    (nav_ids[i], other_ids[j], float(distances[i, j]))\n",
    "    for i, j in close_pairs\n",
    "]"
   ]
  },
  {
   "cell_type": "code",
   "execution_count": 0,
   "metadata": {
    "application/vnd.databricks.v1+cell": {
     "cellMetadata": {
      "byteLimit": 2048000,
      "rowLimit": 10000
     },
     "inputWidgets": {},
     "nuid": "af2db74d-966f-4707-b927-67e394665df2",
     "showTitle": false,
     "tableResultSettingsMap": {},
     "title": ""
    }
   },
   "outputs": [],
   "source": [
    "# Print all conjunctions\n",
    "# print(\"Conjunctions (NAVSTAR vs Others within threshold):\")\n",
    "# print(\"NAVSTAR_ID      OTHER_ID        DISTANCE_KM\")\n",
    "# print(\"------------------------------------------------\")\n",
    "\n",
    "for nav_id, other_id, d in conjunctions:\n",
    "    print(f\"{nav_id:<15} {other_id:<15} {d:10.3f}\")\n"
   ]
  },
  {
   "cell_type": "code",
   "execution_count": 0,
   "metadata": {
    "application/vnd.databricks.v1+cell": {
     "cellMetadata": {
      "byteLimit": 2048000,
      "rowLimit": 10000
     },
     "inputWidgets": {},
     "nuid": "ee74a85d-d2f4-41ea-a2f2-caa9e6b01988",
     "showTitle": false,
     "tableResultSettingsMap": {},
     "title": ""
    }
   },
   "outputs": [],
   "source": [
    "print(\"NAVSTAR count:\", len(navstar_list))\n",
    "print(\"Others count:\", len(others_list))\n"
   ]
  },
  {
   "cell_type": "code",
   "execution_count": 0,
   "metadata": {
    "application/vnd.databricks.v1+cell": {
     "cellMetadata": {
      "byteLimit": 2048000,
      "rowLimit": 10000
     },
     "inputWidgets": {},
     "nuid": "0ae44d0d-c970-4d2d-bacc-ed3708b2392d",
     "showTitle": false,
     "tableResultSettingsMap": {},
     "title": ""
    }
   },
   "outputs": [],
   "source": [
    "test_nav = navstar_list[0]\n",
    "print(get_future_position(test_nav[\"TLE_LINE1\"], test_nav[\"TLE_LINE2\"], target_date))"
   ]
  },
  {
   "cell_type": "code",
   "execution_count": 0,
   "metadata": {
    "application/vnd.databricks.v1+cell": {
     "cellMetadata": {
      "byteLimit": 2048000,
      "rowLimit": 10000
     },
     "inputWidgets": {},
     "nuid": "57f1abd6-9d85-4c66-aef9-5a79a5691565",
     "showTitle": false,
     "tableResultSettingsMap": {},
     "title": ""
    }
   },
   "outputs": [],
   "source": [
    "conjunctions = []\n",
    "\n",
    "for nav in navstar_list[:2]:\n",
    "    nav_pos = get_future_position(nav[\"TLE_LINE1\"], nav[\"TLE_LINE2\"], target_date)\n",
    "    for other in others_list[:5]:\n",
    "        other_pos = get_future_position(other[\"TLE_LINE1\"], other[\"TLE_LINE2\"], target_date)\n",
    "        d = distance_km(nav_pos, other_pos)\n",
    "        if d < 500:  # instead of 50 km\n",
    "            conjunctions.append((nav[\"OBJECT_ID\"], other[\"OBJECT_ID\"], d))\n",
    "        print(nav[\"OBJECT_ID\"], other[\"OBJECT_ID\"], d)"
   ]
  },
  {
   "cell_type": "code",
   "execution_count": 0,
   "metadata": {
    "application/vnd.databricks.v1+cell": {
     "cellMetadata": {
      "byteLimit": 2048000,
      "rowLimit": 10000
     },
     "inputWidgets": {},
     "nuid": "4056a511-fa2f-4bb9-b661-458ec59ad824",
     "showTitle": false,
     "tableResultSettingsMap": {},
     "title": ""
    }
   },
   "outputs": [],
   "source": [
    "nearest = []\n",
    "\n",
    "for nav in navstar_list:\n",
    "    nav_pos = get_future_position(nav[\"TLE_LINE1\"], nav[\"TLE_LINE2\"], target_date)\n",
    "    min_d = float(\"inf\")\n",
    "    closest_obj = None\n",
    "    for other in others_list:\n",
    "        other_pos = get_future_position(other[\"TLE_LINE1\"], other[\"TLE_LINE2\"], target_date)\n",
    "        d = distance_km(nav_pos, other_pos)\n",
    "        if d < min_d:\n",
    "            min_d = d\n",
    "            closest_obj = other[\"OBJECT_ID\"]\n",
    "    nearest.append((nav[\"OBJECT_ID\"], closest_obj, min_d))\n",
    "\n"
   ]
  },
  {
   "cell_type": "code",
   "execution_count": 0,
   "metadata": {
    "application/vnd.databricks.v1+cell": {
     "cellMetadata": {
      "byteLimit": 2048000,
      "rowLimit": 10000
     },
     "inputWidgets": {},
     "nuid": "2eb73fc3-de1e-479c-9800-5bd55a8a2856",
     "showTitle": false,
     "tableResultSettingsMap": {},
     "title": ""
    }
   },
   "outputs": [],
   "source": [
    "# Print top 10 closest objects\n",
    "for obj in nearest[:10]:\n",
    "    print(f\"NAVSTAR {obj[0]} nearest is {obj[1]} at distance {obj[2]:,.1f} km\")"
   ]
  },
  {
   "cell_type": "code",
   "execution_count": 0,
   "metadata": {
    "application/vnd.databricks.v1+cell": {
     "cellMetadata": {
      "byteLimit": 2048000,
      "rowLimit": 10000
     },
     "inputWidgets": {},
     "nuid": "a02e6cbd-d559-4f39-aadd-7871fb221f29",
     "showTitle": false,
     "tableResultSettingsMap": {},
     "title": ""
    }
   },
   "outputs": [],
   "source": [
    "from pyspark.sql import SparkSession\n",
    "\n",
    "# Load Delta table\n",
    "spark = SparkSession.builder.getOrCreate()\n",
    "df = spark.read.table(\"workspace.default.parsed_orbital_elements_flagged\")\n",
    "\n",
    "# Collect into Python objects\n",
    "all_objects = df.collect()\n"
   ]
  },
  {
   "cell_type": "code",
   "execution_count": 0,
   "metadata": {
    "application/vnd.databricks.v1+cell": {
     "cellMetadata": {
      "byteLimit": 2048000,
      "rowLimit": 10000
     },
     "inputWidgets": {},
     "nuid": "9f576a95-5c65-497e-a03a-67a5842ce552",
     "showTitle": false,
     "tableResultSettingsMap": {},
     "title": ""
    }
   },
   "outputs": [],
   "source": [
    "target_id = \"1997-035A\"   # NAVSTAR object ID\n",
    "target_date = \"2025-09-10T00:00:00\"\n",
    "threshold_km = 5000  # let's say \"around\" means within 500 km (you can shrink later)\n",
    "\n",
    "# Find NAVSTAR position\n",
    "navstar = next(obj for obj in all_objects if obj.OBJECT_ID == target_id)\n",
    "nav_pos = get_future_position(navstar.TLE_LINE1, navstar.TLE_LINE2, target_date)\n",
    "\n",
    "# Compare with all others\n",
    "neighbors = []\n",
    "for other in all_objects:\n",
    "    if other.OBJECT_ID == target_id:\n",
    "        continue\n",
    "    other_pos = get_future_position(other.TLE_LINE1, other.TLE_LINE2, target_date)\n",
    "    d = distance_km(nav_pos, other_pos)\n",
    "    if d < threshold_km:\n",
    "        neighbors.append((other.OBJECT_ID, d))\n",
    "\n",
    "# Sort by distance\n",
    "neighbors = sorted(neighbors, key=lambda x: x[1])\n",
    "\n",
    "# Print results\n",
    "if neighbors:\n",
    "    print(f\"Objects near {target_id} (within {threshold_km} km):\")\n",
    "    for obj, d in neighbors:\n",
    "        print(f\"  {obj} at {d:.2f} km\")\n",
    "else:\n",
    "    print(f\"No objects found near {target_id} within {threshold_km} km.\")\n"
   ]
  },
  {
   "cell_type": "code",
   "execution_count": 0,
   "metadata": {
    "application/vnd.databricks.v1+cell": {
     "cellMetadata": {
      "byteLimit": 2048000,
      "rowLimit": 10000
     },
     "inputWidgets": {},
     "nuid": "d3d2f7ec-5f17-4a26-864d-7f1290119708",
     "showTitle": false,
     "tableResultSettingsMap": {},
     "title": ""
    }
   },
   "outputs": [],
   "source": [
    "%python\n",
    "import numpy as np\n",
    "\n",
    "def distance_km(p1, p2):\n",
    "    return np.linalg.norm(np.array(p1) - np.array(p2))\n",
    "\n",
    "target_date = \"2025-09-07T00:00:00\"\n",
    "\n",
    "closest_objects = {}\n",
    "\n",
    "for nav in navstar_list:\n",
    "    nav_pos = get_future_position(nav[\"TLE_LINE1\"], nav[\"TLE_LINE2\"], target_date)\n",
    "    \n",
    "    min_dist = float(\"inf\")\n",
    "    min_obj = None\n",
    "    \n",
    "    for other in others_list:\n",
    "        other_pos = get_future_position(other[\"TLE_LINE1\"], other[\"TLE_LINE2\"], target_date)\n",
    "        d = distance_km(nav_pos, other_pos)\n",
    "        \n",
    "        if d < min_dist:\n",
    "            min_dist = d\n",
    "            min_obj = other[\"OBJECT_ID\"]\n",
    "    \n",
    "    closest_objects[nav[\"OBJECT_ID\"]] = (min_obj, min_dist)\n",
    "\n",
    "# Print results\n",
    "for nav_id, (obj_id, dist) in closest_objects.items():\n",
    "    print(f\"{nav_id} → closest object: {obj_id} at {dist:.2f} km\")"
   ]
  },
  {
   "cell_type": "code",
   "execution_count": 0,
   "metadata": {
    "application/vnd.databricks.v1+cell": {
     "cellMetadata": {
      "byteLimit": 2048000,
      "rowLimit": 10000
     },
     "inputWidgets": {},
     "nuid": "726ba45c-b3fc-417d-b555-cde0db593667",
     "showTitle": false,
     "tableResultSettingsMap": {},
     "title": ""
    }
   },
   "outputs": [],
   "source": [
    "%python\n",
    "import pandas as pd\n",
    "\n",
    "# Convert the results to a DataFrame\n",
    "results_df = pd.DataFrame([\n",
    "    {\"NAVSTAR_ID\": nav_id, \"Closest_Object_ID\": obj_id, \"Distance_km\": dist}\n",
    "    for nav_id, (obj_id, dist) in closest_objects.items()\n",
    "])\n",
    "\n",
    "# Display the DataFrame as a table\n",
    "display(results_df)"
   ]
  },
  {
   "cell_type": "code",
   "execution_count": 0,
   "metadata": {
    "application/vnd.databricks.v1+cell": {
     "cellMetadata": {
      "byteLimit": 2048000,
      "rowLimit": 10000
     },
     "inputWidgets": {},
     "nuid": "6f35dd2c-18fd-40d4-bfe0-5937004a25e4",
     "showTitle": false,
     "tableResultSettingsMap": {},
     "title": ""
    }
   },
   "outputs": [],
   "source": [
    "# Install the openpyxl library\n",
    "%pip install openpyxl"
   ]
  },
  {
   "cell_type": "code",
   "execution_count": 0,
   "metadata": {
    "application/vnd.databricks.v1+cell": {
     "cellMetadata": {
      "byteLimit": 2048000,
      "rowLimit": 10000
     },
     "inputWidgets": {},
     "nuid": "3bcca0af-fa18-422e-b2ed-2d7b49bf0f63",
     "showTitle": false,
     "tableResultSettingsMap": {},
     "title": ""
    }
   },
   "outputs": [],
   "source": [
    "%python\n",
    "import pandas as pd\n",
    "\n",
    "# Read the Excel file\n",
    "results_df = pd.read_excel(\"/Volumes/workspace/default/spacedata/NAVSTAR_data.xlsx\")\n",
    "\n",
    "# Display the DataFrame as a table\n",
    "display(results_df)"
   ]
  },
  {
   "cell_type": "code",
   "execution_count": 0,
   "metadata": {
    "application/vnd.databricks.v1+cell": {
     "cellMetadata": {
      "byteLimit": 2048000,
      "rowLimit": 10000
     },
     "inputWidgets": {},
     "nuid": "27a7ee9d-9571-447b-9353-b7357c61876f",
     "showTitle": false,
     "tableResultSettingsMap": {},
     "title": ""
    }
   },
   "outputs": [],
   "source": [
    "%python\n",
    "%pip install networkx\n",
    "import networkx as nx\n",
    "import matplotlib.pyplot as plt\n",
    "\n",
    "# Build graph\n",
    "G = nx.Graph()\n",
    "\n",
    "for _, row in results_df.iterrows():\n",
    "    G.add_edge(row[\"NAVSTAR_ID\"], row[\"Closest_Object_ID\"], weight=row[\"Distance_km\"])\n",
    "\n",
    "# Draw network with two colors\n",
    "pos = nx.spring_layout(G, seed=42)  # layout for clarity\n",
    "plt.figure(figsize=(14,8))\n",
    "\n",
    "# Define node colors\n",
    "node_colors = [\"skyblue\" if node in results_df[\"NAVSTAR_ID\"].values else \"lightcoral\" for node in G.nodes()]\n",
    "\n",
    "nx.draw(G, pos, with_labels=True, node_size=800, font_size=7, node_color=node_colors, edge_color=\"gray\")\n",
    "labels = nx.get_edge_attributes(G, 'weight')\n",
    "nx.draw_networkx_edge_labels(G, pos, edge_labels={k:f\"{v:.0f} km\" for k,v in labels.items()}, font_size=6)\n",
    "\n",
    "plt.title(\"NAVSTAR Satellites and Their Closest Objects\")\n",
    "plt.show()"
   ]
  },
  {
   "cell_type": "code",
   "execution_count": 0,
   "metadata": {
    "application/vnd.databricks.v1+cell": {
     "cellMetadata": {
      "byteLimit": 2048000,
      "rowLimit": 10000
     },
     "inputWidgets": {},
     "nuid": "a80d02c8-65d4-438d-89b9-6fe7772420bb",
     "showTitle": false,
     "tableResultSettingsMap": {},
     "title": ""
    }
   },
   "outputs": [],
   "source": [
    "%python\n",
    "import matplotlib.pyplot as plt\n",
    "\n",
    "plt.figure(figsize=(16,6))\n",
    "bars = plt.bar(results_df[\"NAVSTAR_ID\"], results_df[\"Distance_km\"], color=\"skyblue\", edgecolor=\"black\")\n",
    "\n",
    "# Annotate each bar with the closest object ID\n",
    "for bar, obj_id, d in zip(bars, results_df[\"Closest_Object_ID\"], results_df[\"Distance_km\"]):\n",
    "    plt.text(bar.get_x() + bar.get_width()/2, d + 50, obj_id, \n",
    "             ha=\"center\", va=\"bottom\", fontsize=7, rotation=90)\n",
    "\n",
    "plt.xticks(rotation=75, ha=\"right\")\n",
    "plt.ylabel(\"Closest Object Distance (km)\")\n",
    "plt.title(\"Closest Object Distances & IDs for NAVSTAR Satellites\")\n",
    "plt.tight_layout()\n",
    "plt.show()"
   ]
  },
  {
   "cell_type": "code",
   "execution_count": 0,
   "metadata": {
    "application/vnd.databricks.v1+cell": {
     "cellMetadata": {
      "byteLimit": 2048000,
      "rowLimit": 10000
     },
     "inputWidgets": {},
     "nuid": "fda5a373-a141-41cf-8855-e48d98dc2b94",
     "showTitle": false,
     "tableResultSettingsMap": {},
     "title": ""
    }
   },
   "outputs": [],
   "source": [
    "#Missed distance calculation\n",
    "import numpy as np\n",
    "from datetime import datetime, timedelta\n",
    "\n",
    "def distance_km(p1, p2):\n",
    "    return np.linalg.norm(np.array(p1) - np.array(p2))\n",
    "\n",
    "def compute_miss_distance(tle1_a, tle2_a, tle1_b, tle2_b, center_date, hours=24, step_minutes=10):\n",
    "    \"\"\"\n",
    "    Compute miss distance between two satellites given TLEs.\n",
    "    \n",
    "    tle1_a, tle2_a : TLE lines for sat A\n",
    "    tle1_b, tle2_b : TLE lines for sat B\n",
    "    center_date    : center of propagation window (string \"YYYY-MM-DDTHH:MM:SS\")\n",
    "    hours          : half-width of window to propagate around (default ±24h)\n",
    "    step_minutes   : propagation step size (default 10 min)\n",
    "    \"\"\"\n",
    "    center = datetime.fromisoformat(center_date)\n",
    "    start = center - timedelta(hours=hours)\n",
    "    end   = center + timedelta(hours=hours)\n",
    "\n",
    "    min_dist = float(\"inf\")\n",
    "    min_time = None\n",
    "    \n",
    "    t = start\n",
    "    while t <= end:\n",
    "        t_str = t.strftime(\"%Y-%m-%dT%H:%M:%S\")\n",
    "        pos_a = get_future_position(tle1_a, tle2_a, t_str)\n",
    "        pos_b = get_future_position(tle1_b, tle2_b, t_str)\n",
    "        \n",
    "        d = distance_km(pos_a, pos_b)\n",
    "        if d < min_dist:\n",
    "            min_dist = d\n",
    "            min_time = t\n",
    "        t += timedelta(minutes=step_minutes)\n",
    "\n",
    "    return min_dist, min_time\n"
   ]
  },
  {
   "cell_type": "code",
   "execution_count": 0,
   "metadata": {
    "application/vnd.databricks.v1+cell": {
     "cellMetadata": {
      "byteLimit": 2048000,
      "rowLimit": 10000
     },
     "inputWidgets": {},
     "nuid": "8bb91a9f-0b06-4b89-89ce-7a2d22ae4dcc",
     "showTitle": false,
     "tableResultSettingsMap": {},
     "title": ""
    }
   },
   "outputs": [],
   "source": [
    "miss_d, miss_t = compute_miss_distance(nav.TLE_LINE1, nav.TLE_LINE2,\n",
    "                                       other.TLE_LINE1, other.TLE_LINE2,\n",
    "                                       \"2025-09-07T00:00:00\")\n",
    "print(f\"Miss distance: {miss_d:.3f} km at {miss_t}\")\n"
   ]
  }
 ],
 "metadata": {
  "application/vnd.databricks.v1+notebook": {
   "computePreferences": null,
   "dashboards": [],
   "environmentMetadata": {
    "base_environment": "",
    "environment_version": "3"
   },
   "inputWidgetPreferences": null,
   "language": "python",
   "notebookMetadata": {
    "pythonIndentUnit": 4
   },
   "notebookName": "propagate both NAVSTAR and other for future epoch",
   "widgets": {}
  },
  "language_info": {
   "name": "python"
  }
 },
 "nbformat": 4,
 "nbformat_minor": 0
}
