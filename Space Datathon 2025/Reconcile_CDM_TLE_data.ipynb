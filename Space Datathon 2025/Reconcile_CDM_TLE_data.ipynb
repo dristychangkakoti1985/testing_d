{
 "cells": [
  {
   "cell_type": "code",
   "execution_count": 0,
   "metadata": {
    "application/vnd.databricks.v1+cell": {
     "cellMetadata": {
      "byteLimit": 2048000,
      "rowLimit": 10000
     },
     "inputWidgets": {},
     "nuid": "dbe49417-6e2f-42cb-971a-1d0aa63c2165",
     "showTitle": false,
     "tableResultSettingsMap": {},
     "title": ""
    }
   },
   "outputs": [],
   "source": [
    "%python\n",
    "%pip install sgp4"
   ]
  },
  {
   "cell_type": "code",
   "execution_count": 0,
   "metadata": {
    "application/vnd.databricks.v1+cell": {
     "cellMetadata": {
      "byteLimit": 2048000,
      "rowLimit": 10000
     },
     "inputWidgets": {},
     "nuid": "6a7dbc38-98a4-48bd-99d9-c83d6bd83053",
     "showTitle": false,
     "tableResultSettingsMap": {},
     "title": ""
    }
   },
   "outputs": [],
   "source": [
    "# Requires: pip install sgp4 numpy scipy pandas\n",
    "import numpy as np\n",
    "import scipy.linalg as la\n",
    "from sgp4.api import Satrec, jday, WGS72\n",
    "from datetime import datetime\n",
    "import math\n",
    "\n",
    "# ----------------- helpers -----------------\n",
    "def get_position_tle(line1, line2, when_iso):\n",
    "    \"\"\"\n",
    "    Return ECI position (km) using sgp4 at ISO time (UTC string 'YYYY-MM-DDTHH:MM:SS').\n",
    "    \"\"\"\n",
    "    sat = Satrec.twoline2rv(line1, line2, WGS72)\n",
    "    ts = datetime.fromisoformat(when_iso)\n",
    "    jd, fr = jday(ts.year, ts.month, ts.day, ts.hour, ts.minute, ts.second + ts.microsecond/1e6)\n",
    "    e, r, v = sat.sgp4(jd, fr)\n",
    "    if e != 0:\n",
    "        raise RuntimeError(f\"SGP4 error {e} for {when_iso}\")\n",
    "    return np.array(r), np.array(v)  # r(km), v(km/s)\n",
    "\n",
    "def build_combined_covariance_diag(sig_a_km3, sig_b_km3):\n",
    "    \"\"\"Make simple diagonal combined covariance from 3-vector sigmas (km).\"\"\"\n",
    "    s1 = np.asarray(sig_a_km3).reshape(3)\n",
    "    s2 = np.asarray(sig_b_km3).reshape(3)\n",
    "    return np.diag(s1**2 + s2**2)\n",
    "\n",
    "def estimate_pc_mc(rel_pos_km, cov_rel_km2, hbr_km, n_samples=200_000, seed=0):\n",
    "    rng = np.random.default_rng(seed)\n",
    "    jitter = 1e-12 * np.trace(cov_rel_km2) if np.isfinite(np.trace(cov_rel_km2)) else 1e-12\n",
    "    cov = cov_rel_km2 + np.eye(3) * jitter\n",
    "    try:\n",
    "        L = la.cholesky(cov, lower=True)\n",
    "    except la.LinAlgError:\n",
    "        evals, evecs = la.eigh(cov)\n",
    "        evals_clipped = np.clip(evals, 0, None)\n",
    "        L = (evecs * np.sqrt(evals_clipped)) @ evecs.T\n",
    "    z = rng.standard_normal(size=(n_samples, 3))\n",
    "    samples = rel_pos_km.reshape(1,3) + z @ L.T\n",
    "    d = np.linalg.norm(samples, axis=1)\n",
    "    hits = (d <= hbr_km)\n",
    "    p = hits.mean()\n",
    "    stderr = math.sqrt(p*(1-p)/n_samples) if n_samples>0 else 0.0\n",
    "    return float(p), float(stderr)\n",
    "\n",
    "# ----------------- main routine -----------------\n",
    "def compute_pc_for_pair(\n",
    "    line1_a, line2_a, line1_b, line2_b,\n",
    "    tca_iso,\n",
    "    # optional: covariances or sigmas; prefer COV matrices in km^2\n",
    "    covA_km2=None, covB_km2=None,\n",
    "    # if covariances not provided, provide 3-element sigma vectors (radial, along, cross) in km\n",
    "    sigmaA_km=None, sigmaB_km=None,\n",
    "    # radii\n",
    "    radiusA_m=1.0, radiusB_m=1.0,\n",
    "    n_samples=200000\n",
    "):\n",
    "    # propagate to TCA\n",
    "    rA, vA = get_position_tle(line1_a, line2_a, tca_iso)\n",
    "    rB, vB = get_position_tle(line1_b, line2_b, tca_iso)\n",
    "    rel = rA - rB  # mean relative vector (km)\n",
    "\n",
    "    # build combined covariance\n",
    "    if covA_km2 is not None and covB_km2 is not None:\n",
    "        C = np.asarray(covA_km2, dtype=float) + np.asarray(covB_km2, dtype=float)\n",
    "    else:\n",
    "        # fall back to diagonal from sigma vectors\n",
    "        if sigmaA_km is None: sigmaA_km = np.array([0.05, 0.5, 0.05])  # default LEO: rad, along, cross (km)\n",
    "        if sigmaB_km is None: sigmaB_km = np.array([0.05, 0.5, 0.05])\n",
    "        C = build_combined_covariance_diag(sigmaA_km, sigmaB_km)\n",
    "\n",
    "    hbr_km = (radiusA_m + radiusB_m) / 1000.0\n",
    "\n",
    "    # Monte Carlo estimate\n",
    "    p, se = estimate_pc_mc(rel, C, hbr_km, n_samples=n_samples)\n",
    "    return {\n",
    "        \"rel_km\": rel,\n",
    "        \"relative_speed_km_s\": np.linalg.norm(vA - vB),\n",
    "        \"miss_distance_km\": np.linalg.norm(rel),\n",
    "        \"Pc\": p,\n",
    "        \"Pc_std_err\": se,\n",
    "        \"hbr_km\": hbr_km,\n",
    "        \"C_trace_km2\": float(np.trace(C))\n",
    "    }\n"
   ]
  },
  {
   "cell_type": "code",
   "execution_count": 0,
   "metadata": {
    "application/vnd.databricks.v1+cell": {
     "cellMetadata": {
      "byteLimit": 2048000,
      "rowLimit": 10000
     },
     "inputWidgets": {},
     "nuid": "efdbe9a8-dadd-4b69-bf11-e3e5368abb2c",
     "showTitle": false,
     "tableResultSettingsMap": {},
     "title": ""
    }
   },
   "outputs": [],
   "source": [
    "# fetch TLE lines for NORADs from your Delta table or TLE source\n",
    "line1_21419 = \"1 21419U 91041B   25232.45386839  .00000070  00000-0  33255-4 0  9991\"   # replace with real TLE line1\n",
    "line2_21419 = \"2 21419  74.0370 234.7926 0039642 154.6600 205.6508 14.35100018788247\"   # replace\n",
    "line1_58074 = \"1 58074U 23159B   25232.60847776  .00000131  00000-0  64456-4 0  9997\"   # replace\n",
    "line2_58074 = \"2 58074  98.4722 248.9531 0100408  94.9791 266.2862 14.29140183 96473\"   # replace\n",
    "\n",
    "tca = \"2025-08-23T12:34:56\"  # use CDM TCA or your computed TCA\n",
    "\n",
    "res = compute_pc_for_pair(\n",
    "    line1_21419, line2_21419, line1_58074, line2_58074,\n",
    "    tca_iso=tca,\n",
    "    # if you have CDM covariance matrices, pass them here as 3x3 arrays (in km^2)\n",
    "    covA_km2=None, covB_km2=None,\n",
    "    # otherwise you can pass realistic sigma vectors (radial, along-track, cross-track) in km:\n",
    "    sigmaA_km=np.array([0.02, 0.2, 0.02]),\n",
    "    sigmaB_km=np.array([0.02, 0.2, 0.02]),\n",
    "    radiusA_m=1.0, radiusB_m=1.0,\n",
    "    n_samples=200000\n",
    ")\n",
    "print(res)\n"
   ]
  }
 ],
 "metadata": {
  "application/vnd.databricks.v1+notebook": {
   "computePreferences": null,
   "dashboards": [],
   "environmentMetadata": {
    "base_environment": "",
    "environment_version": "3"
   },
   "inputWidgetPreferences": null,
   "language": "python",
   "notebookMetadata": {
    "pythonIndentUnit": 4
   },
   "notebookName": "Reconcile_CDM_TLE_data",
   "widgets": {}
  },
  "language_info": {
   "name": "python"
  }
 },
 "nbformat": 4,
 "nbformat_minor": 0
}
