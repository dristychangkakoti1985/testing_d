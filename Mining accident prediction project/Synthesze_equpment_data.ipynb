{
 "cells": [
  {
   "cell_type": "code",
   "execution_count": 0,
   "metadata": {
    "application/vnd.databricks.v1+cell": {
     "cellMetadata": {
      "byteLimit": 2048000,
      "rowLimit": 10000
     },
     "inputWidgets": {},
     "nuid": "a3933557-091c-4385-a0d1-f13f6fc944b8",
     "showTitle": false,
     "tableResultSettingsMap": {},
     "title": ""
    }
   },
   "outputs": [],
   "source": [
    "from pyspark.sql.functions import col, monotonically_increasing_id, concat_ws, lit, floor, rand, expr, current_date, date_sub, when\n",
    "from pyspark.sql import functions as F\n",
    "from pyspark.sql import SparkSession\n",
    "\n",
    "# Start Spark session (Databricks auto-creates this for you)\n",
    "spark = SparkSession.builder.getOrCreate()\n",
    "\n",
    "# Load the table from Unity Catalog with a filter for fiscal year > 2020\n",
    "df = spark.read.table(\"workspace.default.mine_accidents\")\n",
    "df.show(5)\n",
    "\n"
   ]
  },
  {
   "cell_type": "code",
   "execution_count": 0,
   "metadata": {
    "application/vnd.databricks.v1+cell": {
     "cellMetadata": {
      "byteLimit": 2048000,
      "rowLimit": 10000
     },
     "inputWidgets": {},
     "nuid": "8b2065bb-9cba-4952-a960-9e5685a684d4",
     "showTitle": false,
     "tableResultSettingsMap": {},
     "title": ""
    }
   },
   "outputs": [],
   "source": [
    "# Equipment ID\n",
    "df = df.withColumn(\"equipment_id\", concat_ws(\"-\", lit(\"EQP\"), F.date_format(current_date(), \"yyyyMMdd\"), (monotonically_increasing_id() % 1000)))\n",
    "\n",
    "# Equipment Age\n",
    "df = df.withColumn(\"equipment_age_yrs\", floor(rand(seed=42) * 15 + 1))\n",
    "\n",
    "\n",
    "# Days since maintenance\n",
    "df = df.withColumn(\"last_maintenance_days\", floor(rand(seed=99) * 150 + 30))\n",
    "\n"
   ]
  },
  {
   "cell_type": "code",
   "execution_count": 0,
   "metadata": {
    "application/vnd.databricks.v1+cell": {
     "cellMetadata": {
      "byteLimit": 2048000,
      "rowLimit": 10000
     },
     "inputWidgets": {},
     "nuid": "79c61457-a676-403b-8f20-eaff80206cb0",
     "showTitle": false,
     "tableResultSettingsMap": {},
     "title": ""
    }
   },
   "outputs": [],
   "source": [
    "# Ensure the cast is explicitly done\n",
    "df = df.withColumn(\"last_maintenance_dt\", date_sub(col(\"accident_dt\"), col(\"last_maintenance_days\").cast(\"int\")))\n",
    "# Warranty\n",
    "df = df.withColumn(\"is_under_warranty\", when(col(\"equipment_age_yrs\") < 3, True).otherwise(False))\n",
    "\n",
    "# Failure Probability\n",
    "df = df.withColumn(\"failure_probability\", (col(\"equipment_age_yrs\") / 15 + rand(seed=88) * 0.1).cast(\"double\"))\n",
    "\n",
    "# Drop intermediate\n",
    "df = df.drop(\"last_maintenance_days\")"
   ]
  },
  {
   "cell_type": "code",
   "execution_count": 0,
   "metadata": {
    "application/vnd.databricks.v1+cell": {
     "cellMetadata": {
      "byteLimit": 2048000,
      "rowLimit": 10000
     },
     "inputWidgets": {},
     "nuid": "27ea7d6e-ab2f-494e-b37a-a59d08247890",
     "showTitle": false,
     "tableResultSettingsMap": {},
     "title": ""
    }
   },
   "outputs": [],
   "source": [
    "df.show(5)"
   ]
  },
  {
   "cell_type": "code",
   "execution_count": 0,
   "metadata": {
    "application/vnd.databricks.v1+cell": {
     "cellMetadata": {
      "byteLimit": 2048000,
      "rowLimit": 10000
     },
     "inputWidgets": {},
     "nuid": "7c7a41cd-c513-48c8-9650-924380b965df",
     "showTitle": false,
     "tableResultSettingsMap": {},
     "title": ""
    }
   },
   "outputs": [],
   "source": [
    "# Drop the existing table if it exists\n",
    "spark.sql(\"DROP TABLE IF EXISTS workspace.default.mine_accidents\")\n",
    "\n",
    "# Write the DataFrame to the mine_accidents table\n",
    "df.write.mode(\"overwrite\").saveAsTable(\"workspace.default.mine_accidents\")"
   ]
  }
 ],
 "metadata": {
  "application/vnd.databricks.v1+notebook": {
   "computePreferences": null,
   "dashboards": [],
   "environmentMetadata": {
    "base_environment": "",
    "environment_version": "2"
   },
   "inputWidgetPreferences": null,
   "language": "python",
   "notebookMetadata": {
    "pythonIndentUnit": 4
   },
   "notebookName": "Synthesze_equpment_data",
   "widgets": {}
  },
  "language_info": {
   "name": "python"
  }
 },
 "nbformat": 4,
 "nbformat_minor": 0
}
